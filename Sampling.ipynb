{
 "cells": [
  {
   "cell_type": "markdown",
   "id": "0500b6d3-c5b6-48a0-bb77-ec0fc0dc6159",
   "metadata": {},
   "source": [
    "# Sprint 5: S05 T01: Tasca mètodes de mostreig\n",
    "\n",
    "#### Nivel I,I,II\n",
    "#### Sampling Summary: Nivels I,II i III - Cuadros resúmenes y Boxplot \n",
    "\n"
   ]
  },
  {
   "cell_type": "markdown",
   "id": "4ad0dd89-a18c-4ee8-9a82-c36fd1045ef5",
   "metadata": {},
   "source": [
    "## Nivell 1\n",
    "### Exercici 1\n",
    "#### Agafa un conjunt de dades de tema esportiu que t'agradi. Realitza un mostreig de les dades generant una mostra aleatòria simple i una mostra sistemàtica."
   ]
  },
  {
   "cell_type": "code",
   "execution_count": 5,
   "id": "eaaeb964-c2d0-4a84-b99a-fce69ecd2262",
   "metadata": {},
   "outputs": [],
   "source": [
    "import random as rd\n",
    "import numpy as np\n",
    "import pandas as pd\n",
    "import seaborn as sns\n",
    "from matplotlib import pyplot as plt\n",
    "from sklearn.model_selection import train_test_split\n",
    "from imblearn.over_sampling import SMOTE\n",
    "\n",
    "\n",
    "import warnings\n",
    "warnings.filterwarnings('ignore')"
   ]
  },
  {
   "cell_type": "markdown",
   "id": "bb278f9e-e8ef-4b70-ada1-33a012742fff",
   "metadata": {},
   "source": [
    "#### A) Data Frame"
   ]
  },
  {
   "cell_type": "markdown",
   "id": "d7ee7ef6-ac15-4327-bc62-998439dc732b",
   "metadata": {},
   "source": [
    "##### Para realizar este Sprint he seleccionado la información contenida en la página web: https://www.kaggle.com/datasets/heesoo37/120-years-of-olympic-history-athletes-and-results\n",
    "##### En esta web se encuentra disponible una base de datos histórica de los juegos olímpicos de verano e inviderno, desde Athens 1896 hasta Rio 2016"
   ]
  },
  {
   "cell_type": "code",
   "execution_count": 6,
   "id": "e196a638-3930-4c11-933a-0dff9c4e940b",
   "metadata": {},
   "outputs": [],
   "source": [
    "df_atletas= pd.read_csv(r\"C:\\Users\\hecto\\OneDrive\\Documentos\\IT Data Science\\Sprint5\\archive_olimpics\\athlete_events.csv\")\n",
    "df_pais=pd.read_csv(r\"C:\\Users\\hecto\\OneDrive\\Documentos\\IT Data Science\\Sprint5\\archive_olimpics\\noc_regions.csv\")"
   ]
  },
  {
   "cell_type": "code",
   "execution_count": 7,
   "id": "1dac41a0-42f4-436a-a2b6-d2ce13ea7827",
   "metadata": {},
   "outputs": [
    {
     "name": "stdout",
     "output_type": "stream",
     "text": [
      "<class 'pandas.core.frame.DataFrame'>\n",
      "RangeIndex: 271116 entries, 0 to 271115\n",
      "Data columns (total 15 columns):\n",
      " #   Column  Non-Null Count   Dtype  \n",
      "---  ------  --------------   -----  \n",
      " 0   ID      271116 non-null  int64  \n",
      " 1   Name    271116 non-null  object \n",
      " 2   Sex     271116 non-null  object \n",
      " 3   Age     261642 non-null  float64\n",
      " 4   Height  210945 non-null  float64\n",
      " 5   Weight  208241 non-null  float64\n",
      " 6   Team    271116 non-null  object \n",
      " 7   NOC     271116 non-null  object \n",
      " 8   Games   271116 non-null  object \n",
      " 9   Year    271116 non-null  int64  \n",
      " 10  Season  271116 non-null  object \n",
      " 11  City    271116 non-null  object \n",
      " 12  Sport   271116 non-null  object \n",
      " 13  Event   271116 non-null  object \n",
      " 14  Medal   39783 non-null   object \n",
      "dtypes: float64(3), int64(2), object(10)\n",
      "memory usage: 31.0+ MB\n"
     ]
    }
   ],
   "source": [
    "df_atletas.info()"
   ]
  },
  {
   "cell_type": "code",
   "execution_count": 8,
   "id": "9e3bd77c-ebd5-4bd6-9a08-d49d5c37f3b2",
   "metadata": {},
   "outputs": [
    {
     "data": {
      "text/html": [
       "<div>\n",
       "<style scoped>\n",
       "    .dataframe tbody tr th:only-of-type {\n",
       "        vertical-align: middle;\n",
       "    }\n",
       "\n",
       "    .dataframe tbody tr th {\n",
       "        vertical-align: top;\n",
       "    }\n",
       "\n",
       "    .dataframe thead th {\n",
       "        text-align: right;\n",
       "    }\n",
       "</style>\n",
       "<table border=\"1\" class=\"dataframe\">\n",
       "  <thead>\n",
       "    <tr style=\"text-align: right;\">\n",
       "      <th></th>\n",
       "      <th>ID</th>\n",
       "      <th>Name</th>\n",
       "      <th>Sex</th>\n",
       "      <th>Age</th>\n",
       "      <th>Height</th>\n",
       "      <th>Weight</th>\n",
       "      <th>Team</th>\n",
       "      <th>NOC</th>\n",
       "      <th>Games</th>\n",
       "      <th>Year</th>\n",
       "      <th>Season</th>\n",
       "      <th>City</th>\n",
       "      <th>Sport</th>\n",
       "      <th>Event</th>\n",
       "      <th>Medal</th>\n",
       "    </tr>\n",
       "  </thead>\n",
       "  <tbody>\n",
       "    <tr>\n",
       "      <th>0</th>\n",
       "      <td>1</td>\n",
       "      <td>A Dijiang</td>\n",
       "      <td>M</td>\n",
       "      <td>24.0</td>\n",
       "      <td>180.0</td>\n",
       "      <td>80.0</td>\n",
       "      <td>China</td>\n",
       "      <td>CHN</td>\n",
       "      <td>1992 Summer</td>\n",
       "      <td>1992</td>\n",
       "      <td>Summer</td>\n",
       "      <td>Barcelona</td>\n",
       "      <td>Basketball</td>\n",
       "      <td>Basketball Men's Basketball</td>\n",
       "      <td>NaN</td>\n",
       "    </tr>\n",
       "    <tr>\n",
       "      <th>1</th>\n",
       "      <td>2</td>\n",
       "      <td>A Lamusi</td>\n",
       "      <td>M</td>\n",
       "      <td>23.0</td>\n",
       "      <td>170.0</td>\n",
       "      <td>60.0</td>\n",
       "      <td>China</td>\n",
       "      <td>CHN</td>\n",
       "      <td>2012 Summer</td>\n",
       "      <td>2012</td>\n",
       "      <td>Summer</td>\n",
       "      <td>London</td>\n",
       "      <td>Judo</td>\n",
       "      <td>Judo Men's Extra-Lightweight</td>\n",
       "      <td>NaN</td>\n",
       "    </tr>\n",
       "    <tr>\n",
       "      <th>2</th>\n",
       "      <td>3</td>\n",
       "      <td>Gunnar Nielsen Aaby</td>\n",
       "      <td>M</td>\n",
       "      <td>24.0</td>\n",
       "      <td>NaN</td>\n",
       "      <td>NaN</td>\n",
       "      <td>Denmark</td>\n",
       "      <td>DEN</td>\n",
       "      <td>1920 Summer</td>\n",
       "      <td>1920</td>\n",
       "      <td>Summer</td>\n",
       "      <td>Antwerpen</td>\n",
       "      <td>Football</td>\n",
       "      <td>Football Men's Football</td>\n",
       "      <td>NaN</td>\n",
       "    </tr>\n",
       "    <tr>\n",
       "      <th>3</th>\n",
       "      <td>4</td>\n",
       "      <td>Edgar Lindenau Aabye</td>\n",
       "      <td>M</td>\n",
       "      <td>34.0</td>\n",
       "      <td>NaN</td>\n",
       "      <td>NaN</td>\n",
       "      <td>Denmark/Sweden</td>\n",
       "      <td>DEN</td>\n",
       "      <td>1900 Summer</td>\n",
       "      <td>1900</td>\n",
       "      <td>Summer</td>\n",
       "      <td>Paris</td>\n",
       "      <td>Tug-Of-War</td>\n",
       "      <td>Tug-Of-War Men's Tug-Of-War</td>\n",
       "      <td>Gold</td>\n",
       "    </tr>\n",
       "    <tr>\n",
       "      <th>4</th>\n",
       "      <td>5</td>\n",
       "      <td>Christine Jacoba Aaftink</td>\n",
       "      <td>F</td>\n",
       "      <td>21.0</td>\n",
       "      <td>185.0</td>\n",
       "      <td>82.0</td>\n",
       "      <td>Netherlands</td>\n",
       "      <td>NED</td>\n",
       "      <td>1988 Winter</td>\n",
       "      <td>1988</td>\n",
       "      <td>Winter</td>\n",
       "      <td>Calgary</td>\n",
       "      <td>Speed Skating</td>\n",
       "      <td>Speed Skating Women's 500 metres</td>\n",
       "      <td>NaN</td>\n",
       "    </tr>\n",
       "  </tbody>\n",
       "</table>\n",
       "</div>"
      ],
      "text/plain": [
       "   ID                      Name Sex   Age  Height  Weight            Team  \\\n",
       "0   1                 A Dijiang   M  24.0   180.0    80.0           China   \n",
       "1   2                  A Lamusi   M  23.0   170.0    60.0           China   \n",
       "2   3       Gunnar Nielsen Aaby   M  24.0     NaN     NaN         Denmark   \n",
       "3   4      Edgar Lindenau Aabye   M  34.0     NaN     NaN  Denmark/Sweden   \n",
       "4   5  Christine Jacoba Aaftink   F  21.0   185.0    82.0     Netherlands   \n",
       "\n",
       "   NOC        Games  Year  Season       City          Sport  \\\n",
       "0  CHN  1992 Summer  1992  Summer  Barcelona     Basketball   \n",
       "1  CHN  2012 Summer  2012  Summer     London           Judo   \n",
       "2  DEN  1920 Summer  1920  Summer  Antwerpen       Football   \n",
       "3  DEN  1900 Summer  1900  Summer      Paris     Tug-Of-War   \n",
       "4  NED  1988 Winter  1988  Winter    Calgary  Speed Skating   \n",
       "\n",
       "                              Event Medal  \n",
       "0       Basketball Men's Basketball   NaN  \n",
       "1      Judo Men's Extra-Lightweight   NaN  \n",
       "2           Football Men's Football   NaN  \n",
       "3       Tug-Of-War Men's Tug-Of-War  Gold  \n",
       "4  Speed Skating Women's 500 metres   NaN  "
      ]
     },
     "execution_count": 8,
     "metadata": {},
     "output_type": "execute_result"
    }
   ],
   "source": [
    "df_atletas.head(5)"
   ]
  },
  {
   "cell_type": "markdown",
   "id": "06fb78cd-6547-49cc-95f5-2f2b43d948d1",
   "metadata": {},
   "source": [
    "##### Detalle de los campos:\n",
    "##### El archivo atleta_eventos.csv contiene 271116 filas y 15 columnas; Cada fila corresponde a un atleta individual compitiendo en un evento olímpico individual.\n",
    "\n",
    "###### ID - Unique number for each athlete;\n",
    "###### Name - Athlete's name;\n",
    "###### Sex - M or F;\n",
    "###### Age - Integer;\n",
    "###### Height - In centimeters;\n",
    "###### Weight - In kilograms;\n",
    "###### Team - Team name;\n",
    "###### NOC - National Olympic Committee 3-letter code;\n",
    "###### Games - Year and season;\n",
    "###### Year - Integer;\n",
    "###### Season - Summer or Winter;\n",
    "###### City - Host city;\n",
    "###### Sport - Sport;\n",
    "###### Event - Event;\n",
    "###### Medal - Gold, Silver, Bronze, or NA."
   ]
  },
  {
   "cell_type": "code",
   "execution_count": 9,
   "id": "58305b89-e4d3-474c-b42f-aeff79d03490",
   "metadata": {},
   "outputs": [
    {
     "data": {
      "text/html": [
       "<div>\n",
       "<style scoped>\n",
       "    .dataframe tbody tr th:only-of-type {\n",
       "        vertical-align: middle;\n",
       "    }\n",
       "\n",
       "    .dataframe tbody tr th {\n",
       "        vertical-align: top;\n",
       "    }\n",
       "\n",
       "    .dataframe thead th {\n",
       "        text-align: right;\n",
       "    }\n",
       "</style>\n",
       "<table border=\"1\" class=\"dataframe\">\n",
       "  <thead>\n",
       "    <tr style=\"text-align: right;\">\n",
       "      <th></th>\n",
       "      <th>ID</th>\n",
       "      <th>Age</th>\n",
       "      <th>Height</th>\n",
       "      <th>Weight</th>\n",
       "      <th>Year</th>\n",
       "    </tr>\n",
       "  </thead>\n",
       "  <tbody>\n",
       "    <tr>\n",
       "      <th>count</th>\n",
       "      <td>271116.000000</td>\n",
       "      <td>261642.000000</td>\n",
       "      <td>210945.000000</td>\n",
       "      <td>208241.000000</td>\n",
       "      <td>271116.000000</td>\n",
       "    </tr>\n",
       "    <tr>\n",
       "      <th>mean</th>\n",
       "      <td>68248.954396</td>\n",
       "      <td>25.556898</td>\n",
       "      <td>175.338970</td>\n",
       "      <td>70.702393</td>\n",
       "      <td>1978.378480</td>\n",
       "    </tr>\n",
       "    <tr>\n",
       "      <th>std</th>\n",
       "      <td>39022.286345</td>\n",
       "      <td>6.393561</td>\n",
       "      <td>10.518462</td>\n",
       "      <td>14.348020</td>\n",
       "      <td>29.877632</td>\n",
       "    </tr>\n",
       "    <tr>\n",
       "      <th>min</th>\n",
       "      <td>1.000000</td>\n",
       "      <td>10.000000</td>\n",
       "      <td>127.000000</td>\n",
       "      <td>25.000000</td>\n",
       "      <td>1896.000000</td>\n",
       "    </tr>\n",
       "    <tr>\n",
       "      <th>25%</th>\n",
       "      <td>34643.000000</td>\n",
       "      <td>21.000000</td>\n",
       "      <td>168.000000</td>\n",
       "      <td>60.000000</td>\n",
       "      <td>1960.000000</td>\n",
       "    </tr>\n",
       "    <tr>\n",
       "      <th>50%</th>\n",
       "      <td>68205.000000</td>\n",
       "      <td>24.000000</td>\n",
       "      <td>175.000000</td>\n",
       "      <td>70.000000</td>\n",
       "      <td>1988.000000</td>\n",
       "    </tr>\n",
       "    <tr>\n",
       "      <th>75%</th>\n",
       "      <td>102097.250000</td>\n",
       "      <td>28.000000</td>\n",
       "      <td>183.000000</td>\n",
       "      <td>79.000000</td>\n",
       "      <td>2002.000000</td>\n",
       "    </tr>\n",
       "    <tr>\n",
       "      <th>max</th>\n",
       "      <td>135571.000000</td>\n",
       "      <td>97.000000</td>\n",
       "      <td>226.000000</td>\n",
       "      <td>214.000000</td>\n",
       "      <td>2016.000000</td>\n",
       "    </tr>\n",
       "  </tbody>\n",
       "</table>\n",
       "</div>"
      ],
      "text/plain": [
       "                  ID            Age         Height         Weight  \\\n",
       "count  271116.000000  261642.000000  210945.000000  208241.000000   \n",
       "mean    68248.954396      25.556898     175.338970      70.702393   \n",
       "std     39022.286345       6.393561      10.518462      14.348020   \n",
       "min         1.000000      10.000000     127.000000      25.000000   \n",
       "25%     34643.000000      21.000000     168.000000      60.000000   \n",
       "50%     68205.000000      24.000000     175.000000      70.000000   \n",
       "75%    102097.250000      28.000000     183.000000      79.000000   \n",
       "max    135571.000000      97.000000     226.000000     214.000000   \n",
       "\n",
       "                Year  \n",
       "count  271116.000000  \n",
       "mean     1978.378480  \n",
       "std        29.877632  \n",
       "min      1896.000000  \n",
       "25%      1960.000000  \n",
       "50%      1988.000000  \n",
       "75%      2002.000000  \n",
       "max      2016.000000  "
      ]
     },
     "execution_count": 9,
     "metadata": {},
     "output_type": "execute_result"
    }
   ],
   "source": [
    "df_atletas.describe()"
   ]
  },
  {
   "cell_type": "markdown",
   "id": "3cc63c58-1eb0-4ca5-8e3f-fe0253d1a0cd",
   "metadata": {},
   "source": [
    "##### Adicionalmente, existe otro Data Frame que contiene el país federado en el Comité Olímpico Internacional y la federaión a la que pertenecen.\n",
    "##### Aunque es una información redundante, ya que la base da datos de atletas contiene la información del país por el que compiten los atletas, juntaremos los dos data frame para tener la información completa."
   ]
  },
  {
   "cell_type": "code",
   "execution_count": 10,
   "id": "b111f894-3f64-43dd-a025-46f42c2d9f96",
   "metadata": {},
   "outputs": [
    {
     "name": "stdout",
     "output_type": "stream",
     "text": [
      "<class 'pandas.core.frame.DataFrame'>\n",
      "RangeIndex: 230 entries, 0 to 229\n",
      "Data columns (total 3 columns):\n",
      " #   Column  Non-Null Count  Dtype \n",
      "---  ------  --------------  ----- \n",
      " 0   NOC     230 non-null    object\n",
      " 1   region  227 non-null    object\n",
      " 2   notes   21 non-null     object\n",
      "dtypes: object(3)\n",
      "memory usage: 5.5+ KB\n"
     ]
    }
   ],
   "source": [
    "df_pais.info()"
   ]
  },
  {
   "cell_type": "code",
   "execution_count": 11,
   "id": "72593fb1-04c6-45ae-8422-46f025a9660c",
   "metadata": {},
   "outputs": [
    {
     "data": {
      "text/html": [
       "<div>\n",
       "<style scoped>\n",
       "    .dataframe tbody tr th:only-of-type {\n",
       "        vertical-align: middle;\n",
       "    }\n",
       "\n",
       "    .dataframe tbody tr th {\n",
       "        vertical-align: top;\n",
       "    }\n",
       "\n",
       "    .dataframe thead th {\n",
       "        text-align: right;\n",
       "    }\n",
       "</style>\n",
       "<table border=\"1\" class=\"dataframe\">\n",
       "  <thead>\n",
       "    <tr style=\"text-align: right;\">\n",
       "      <th></th>\n",
       "      <th>NOC</th>\n",
       "      <th>region</th>\n",
       "      <th>notes</th>\n",
       "    </tr>\n",
       "  </thead>\n",
       "  <tbody>\n",
       "    <tr>\n",
       "      <th>0</th>\n",
       "      <td>AFG</td>\n",
       "      <td>Afghanistan</td>\n",
       "      <td>NaN</td>\n",
       "    </tr>\n",
       "    <tr>\n",
       "      <th>1</th>\n",
       "      <td>AHO</td>\n",
       "      <td>Curacao</td>\n",
       "      <td>Netherlands Antilles</td>\n",
       "    </tr>\n",
       "    <tr>\n",
       "      <th>2</th>\n",
       "      <td>ALB</td>\n",
       "      <td>Albania</td>\n",
       "      <td>NaN</td>\n",
       "    </tr>\n",
       "    <tr>\n",
       "      <th>3</th>\n",
       "      <td>ALG</td>\n",
       "      <td>Algeria</td>\n",
       "      <td>NaN</td>\n",
       "    </tr>\n",
       "    <tr>\n",
       "      <th>4</th>\n",
       "      <td>AND</td>\n",
       "      <td>Andorra</td>\n",
       "      <td>NaN</td>\n",
       "    </tr>\n",
       "  </tbody>\n",
       "</table>\n",
       "</div>"
      ],
      "text/plain": [
       "   NOC       region                 notes\n",
       "0  AFG  Afghanistan                   NaN\n",
       "1  AHO      Curacao  Netherlands Antilles\n",
       "2  ALB      Albania                   NaN\n",
       "3  ALG      Algeria                   NaN\n",
       "4  AND      Andorra                   NaN"
      ]
     },
     "execution_count": 11,
     "metadata": {},
     "output_type": "execute_result"
    }
   ],
   "source": [
    "df_pais.head(5)"
   ]
  },
  {
   "cell_type": "markdown",
   "id": "6cb510ad-8051-40a4-8fa6-4e21883507ab",
   "metadata": {},
   "source": [
    "##### Descripción de los campos:\n",
    "\n",
    "###### NOC : Código Federación\n",
    "###### region : País Federado\n",
    "###### notes: comentarios"
   ]
  },
  {
   "cell_type": "markdown",
   "id": "fe2b067b-41f3-4886-a314-c4df9a4bf49c",
   "metadata": {},
   "source": [
    "### B) Integración de los dos data frames"
   ]
  },
  {
   "cell_type": "code",
   "execution_count": 12,
   "id": "9d170bc4-1b42-4ea8-aaf0-ca6107e7d9c2",
   "metadata": {},
   "outputs": [],
   "source": [
    "df_merged = pd.merge(df_atletas, df_pais, on='NOC', how='left')"
   ]
  },
  {
   "cell_type": "code",
   "execution_count": 13,
   "id": "b6aa1720-1f09-4d90-943f-187bff63ef02",
   "metadata": {},
   "outputs": [
    {
     "data": {
      "text/html": [
       "<div>\n",
       "<style scoped>\n",
       "    .dataframe tbody tr th:only-of-type {\n",
       "        vertical-align: middle;\n",
       "    }\n",
       "\n",
       "    .dataframe tbody tr th {\n",
       "        vertical-align: top;\n",
       "    }\n",
       "\n",
       "    .dataframe thead th {\n",
       "        text-align: right;\n",
       "    }\n",
       "</style>\n",
       "<table border=\"1\" class=\"dataframe\">\n",
       "  <thead>\n",
       "    <tr style=\"text-align: right;\">\n",
       "      <th></th>\n",
       "      <th>ID</th>\n",
       "      <th>Name</th>\n",
       "      <th>Sex</th>\n",
       "      <th>Age</th>\n",
       "      <th>Height</th>\n",
       "      <th>Weight</th>\n",
       "      <th>Team</th>\n",
       "      <th>NOC</th>\n",
       "      <th>Games</th>\n",
       "      <th>Year</th>\n",
       "      <th>Season</th>\n",
       "      <th>City</th>\n",
       "      <th>Sport</th>\n",
       "      <th>Event</th>\n",
       "      <th>Medal</th>\n",
       "      <th>region</th>\n",
       "      <th>notes</th>\n",
       "    </tr>\n",
       "  </thead>\n",
       "  <tbody>\n",
       "    <tr>\n",
       "      <th>0</th>\n",
       "      <td>1</td>\n",
       "      <td>A Dijiang</td>\n",
       "      <td>M</td>\n",
       "      <td>24.0</td>\n",
       "      <td>180.0</td>\n",
       "      <td>80.0</td>\n",
       "      <td>China</td>\n",
       "      <td>CHN</td>\n",
       "      <td>1992 Summer</td>\n",
       "      <td>1992</td>\n",
       "      <td>Summer</td>\n",
       "      <td>Barcelona</td>\n",
       "      <td>Basketball</td>\n",
       "      <td>Basketball Men's Basketball</td>\n",
       "      <td>NaN</td>\n",
       "      <td>China</td>\n",
       "      <td>NaN</td>\n",
       "    </tr>\n",
       "    <tr>\n",
       "      <th>1</th>\n",
       "      <td>2</td>\n",
       "      <td>A Lamusi</td>\n",
       "      <td>M</td>\n",
       "      <td>23.0</td>\n",
       "      <td>170.0</td>\n",
       "      <td>60.0</td>\n",
       "      <td>China</td>\n",
       "      <td>CHN</td>\n",
       "      <td>2012 Summer</td>\n",
       "      <td>2012</td>\n",
       "      <td>Summer</td>\n",
       "      <td>London</td>\n",
       "      <td>Judo</td>\n",
       "      <td>Judo Men's Extra-Lightweight</td>\n",
       "      <td>NaN</td>\n",
       "      <td>China</td>\n",
       "      <td>NaN</td>\n",
       "    </tr>\n",
       "    <tr>\n",
       "      <th>2</th>\n",
       "      <td>3</td>\n",
       "      <td>Gunnar Nielsen Aaby</td>\n",
       "      <td>M</td>\n",
       "      <td>24.0</td>\n",
       "      <td>NaN</td>\n",
       "      <td>NaN</td>\n",
       "      <td>Denmark</td>\n",
       "      <td>DEN</td>\n",
       "      <td>1920 Summer</td>\n",
       "      <td>1920</td>\n",
       "      <td>Summer</td>\n",
       "      <td>Antwerpen</td>\n",
       "      <td>Football</td>\n",
       "      <td>Football Men's Football</td>\n",
       "      <td>NaN</td>\n",
       "      <td>Denmark</td>\n",
       "      <td>NaN</td>\n",
       "    </tr>\n",
       "    <tr>\n",
       "      <th>3</th>\n",
       "      <td>4</td>\n",
       "      <td>Edgar Lindenau Aabye</td>\n",
       "      <td>M</td>\n",
       "      <td>34.0</td>\n",
       "      <td>NaN</td>\n",
       "      <td>NaN</td>\n",
       "      <td>Denmark/Sweden</td>\n",
       "      <td>DEN</td>\n",
       "      <td>1900 Summer</td>\n",
       "      <td>1900</td>\n",
       "      <td>Summer</td>\n",
       "      <td>Paris</td>\n",
       "      <td>Tug-Of-War</td>\n",
       "      <td>Tug-Of-War Men's Tug-Of-War</td>\n",
       "      <td>Gold</td>\n",
       "      <td>Denmark</td>\n",
       "      <td>NaN</td>\n",
       "    </tr>\n",
       "    <tr>\n",
       "      <th>4</th>\n",
       "      <td>5</td>\n",
       "      <td>Christine Jacoba Aaftink</td>\n",
       "      <td>F</td>\n",
       "      <td>21.0</td>\n",
       "      <td>185.0</td>\n",
       "      <td>82.0</td>\n",
       "      <td>Netherlands</td>\n",
       "      <td>NED</td>\n",
       "      <td>1988 Winter</td>\n",
       "      <td>1988</td>\n",
       "      <td>Winter</td>\n",
       "      <td>Calgary</td>\n",
       "      <td>Speed Skating</td>\n",
       "      <td>Speed Skating Women's 500 metres</td>\n",
       "      <td>NaN</td>\n",
       "      <td>Netherlands</td>\n",
       "      <td>NaN</td>\n",
       "    </tr>\n",
       "  </tbody>\n",
       "</table>\n",
       "</div>"
      ],
      "text/plain": [
       "   ID                      Name Sex   Age  Height  Weight            Team  \\\n",
       "0   1                 A Dijiang   M  24.0   180.0    80.0           China   \n",
       "1   2                  A Lamusi   M  23.0   170.0    60.0           China   \n",
       "2   3       Gunnar Nielsen Aaby   M  24.0     NaN     NaN         Denmark   \n",
       "3   4      Edgar Lindenau Aabye   M  34.0     NaN     NaN  Denmark/Sweden   \n",
       "4   5  Christine Jacoba Aaftink   F  21.0   185.0    82.0     Netherlands   \n",
       "\n",
       "   NOC        Games  Year  Season       City          Sport  \\\n",
       "0  CHN  1992 Summer  1992  Summer  Barcelona     Basketball   \n",
       "1  CHN  2012 Summer  2012  Summer     London           Judo   \n",
       "2  DEN  1920 Summer  1920  Summer  Antwerpen       Football   \n",
       "3  DEN  1900 Summer  1900  Summer      Paris     Tug-Of-War   \n",
       "4  NED  1988 Winter  1988  Winter    Calgary  Speed Skating   \n",
       "\n",
       "                              Event Medal       region notes  \n",
       "0       Basketball Men's Basketball   NaN        China   NaN  \n",
       "1      Judo Men's Extra-Lightweight   NaN        China   NaN  \n",
       "2           Football Men's Football   NaN      Denmark   NaN  \n",
       "3       Tug-Of-War Men's Tug-Of-War  Gold      Denmark   NaN  \n",
       "4  Speed Skating Women's 500 metres   NaN  Netherlands   NaN  "
      ]
     },
     "execution_count": 13,
     "metadata": {},
     "output_type": "execute_result"
    }
   ],
   "source": [
    "df_merged.head()"
   ]
  },
  {
   "cell_type": "markdown",
   "id": "b85dca9b-d76c-4fbc-b460-12a5cab4d757",
   "metadata": {},
   "source": [
    "#### C) Creación de una nueva variable BMI (ïndice de Masa Corpotal)"
   ]
  },
  {
   "cell_type": "code",
   "execution_count": 14,
   "id": "7c201f4b-b887-4ca1-89ae-0437f73f2de2",
   "metadata": {},
   "outputs": [],
   "source": [
    "bmi = 10000 * df_merged[\"Weight\"] / (df_merged[\"Height\"] * df_merged[\"Height\"])\n",
    "df_merged[\"BMI\"] = bmi"
   ]
  },
  {
   "cell_type": "code",
   "execution_count": 15,
   "id": "ef37f863-eba9-4310-995a-b70d8d542934",
   "metadata": {},
   "outputs": [
    {
     "data": {
      "text/html": [
       "<div>\n",
       "<style scoped>\n",
       "    .dataframe tbody tr th:only-of-type {\n",
       "        vertical-align: middle;\n",
       "    }\n",
       "\n",
       "    .dataframe tbody tr th {\n",
       "        vertical-align: top;\n",
       "    }\n",
       "\n",
       "    .dataframe thead th {\n",
       "        text-align: right;\n",
       "    }\n",
       "</style>\n",
       "<table border=\"1\" class=\"dataframe\">\n",
       "  <thead>\n",
       "    <tr style=\"text-align: right;\">\n",
       "      <th></th>\n",
       "      <th>ID</th>\n",
       "      <th>Name</th>\n",
       "      <th>Sex</th>\n",
       "      <th>Age</th>\n",
       "      <th>Height</th>\n",
       "      <th>Weight</th>\n",
       "      <th>Team</th>\n",
       "      <th>NOC</th>\n",
       "      <th>Games</th>\n",
       "      <th>Year</th>\n",
       "      <th>Season</th>\n",
       "      <th>City</th>\n",
       "      <th>Sport</th>\n",
       "      <th>Event</th>\n",
       "      <th>Medal</th>\n",
       "      <th>region</th>\n",
       "      <th>notes</th>\n",
       "      <th>BMI</th>\n",
       "    </tr>\n",
       "  </thead>\n",
       "  <tbody>\n",
       "    <tr>\n",
       "      <th>0</th>\n",
       "      <td>1</td>\n",
       "      <td>A Dijiang</td>\n",
       "      <td>M</td>\n",
       "      <td>24.0</td>\n",
       "      <td>180.0</td>\n",
       "      <td>80.0</td>\n",
       "      <td>China</td>\n",
       "      <td>CHN</td>\n",
       "      <td>1992 Summer</td>\n",
       "      <td>1992</td>\n",
       "      <td>Summer</td>\n",
       "      <td>Barcelona</td>\n",
       "      <td>Basketball</td>\n",
       "      <td>Basketball Men's Basketball</td>\n",
       "      <td>NaN</td>\n",
       "      <td>China</td>\n",
       "      <td>NaN</td>\n",
       "      <td>24.691358</td>\n",
       "    </tr>\n",
       "    <tr>\n",
       "      <th>1</th>\n",
       "      <td>2</td>\n",
       "      <td>A Lamusi</td>\n",
       "      <td>M</td>\n",
       "      <td>23.0</td>\n",
       "      <td>170.0</td>\n",
       "      <td>60.0</td>\n",
       "      <td>China</td>\n",
       "      <td>CHN</td>\n",
       "      <td>2012 Summer</td>\n",
       "      <td>2012</td>\n",
       "      <td>Summer</td>\n",
       "      <td>London</td>\n",
       "      <td>Judo</td>\n",
       "      <td>Judo Men's Extra-Lightweight</td>\n",
       "      <td>NaN</td>\n",
       "      <td>China</td>\n",
       "      <td>NaN</td>\n",
       "      <td>20.761246</td>\n",
       "    </tr>\n",
       "    <tr>\n",
       "      <th>2</th>\n",
       "      <td>3</td>\n",
       "      <td>Gunnar Nielsen Aaby</td>\n",
       "      <td>M</td>\n",
       "      <td>24.0</td>\n",
       "      <td>NaN</td>\n",
       "      <td>NaN</td>\n",
       "      <td>Denmark</td>\n",
       "      <td>DEN</td>\n",
       "      <td>1920 Summer</td>\n",
       "      <td>1920</td>\n",
       "      <td>Summer</td>\n",
       "      <td>Antwerpen</td>\n",
       "      <td>Football</td>\n",
       "      <td>Football Men's Football</td>\n",
       "      <td>NaN</td>\n",
       "      <td>Denmark</td>\n",
       "      <td>NaN</td>\n",
       "      <td>NaN</td>\n",
       "    </tr>\n",
       "    <tr>\n",
       "      <th>3</th>\n",
       "      <td>4</td>\n",
       "      <td>Edgar Lindenau Aabye</td>\n",
       "      <td>M</td>\n",
       "      <td>34.0</td>\n",
       "      <td>NaN</td>\n",
       "      <td>NaN</td>\n",
       "      <td>Denmark/Sweden</td>\n",
       "      <td>DEN</td>\n",
       "      <td>1900 Summer</td>\n",
       "      <td>1900</td>\n",
       "      <td>Summer</td>\n",
       "      <td>Paris</td>\n",
       "      <td>Tug-Of-War</td>\n",
       "      <td>Tug-Of-War Men's Tug-Of-War</td>\n",
       "      <td>Gold</td>\n",
       "      <td>Denmark</td>\n",
       "      <td>NaN</td>\n",
       "      <td>NaN</td>\n",
       "    </tr>\n",
       "    <tr>\n",
       "      <th>4</th>\n",
       "      <td>5</td>\n",
       "      <td>Christine Jacoba Aaftink</td>\n",
       "      <td>F</td>\n",
       "      <td>21.0</td>\n",
       "      <td>185.0</td>\n",
       "      <td>82.0</td>\n",
       "      <td>Netherlands</td>\n",
       "      <td>NED</td>\n",
       "      <td>1988 Winter</td>\n",
       "      <td>1988</td>\n",
       "      <td>Winter</td>\n",
       "      <td>Calgary</td>\n",
       "      <td>Speed Skating</td>\n",
       "      <td>Speed Skating Women's 500 metres</td>\n",
       "      <td>NaN</td>\n",
       "      <td>Netherlands</td>\n",
       "      <td>NaN</td>\n",
       "      <td>23.959094</td>\n",
       "    </tr>\n",
       "  </tbody>\n",
       "</table>\n",
       "</div>"
      ],
      "text/plain": [
       "   ID                      Name Sex   Age  Height  Weight            Team  \\\n",
       "0   1                 A Dijiang   M  24.0   180.0    80.0           China   \n",
       "1   2                  A Lamusi   M  23.0   170.0    60.0           China   \n",
       "2   3       Gunnar Nielsen Aaby   M  24.0     NaN     NaN         Denmark   \n",
       "3   4      Edgar Lindenau Aabye   M  34.0     NaN     NaN  Denmark/Sweden   \n",
       "4   5  Christine Jacoba Aaftink   F  21.0   185.0    82.0     Netherlands   \n",
       "\n",
       "   NOC        Games  Year  Season       City          Sport  \\\n",
       "0  CHN  1992 Summer  1992  Summer  Barcelona     Basketball   \n",
       "1  CHN  2012 Summer  2012  Summer     London           Judo   \n",
       "2  DEN  1920 Summer  1920  Summer  Antwerpen       Football   \n",
       "3  DEN  1900 Summer  1900  Summer      Paris     Tug-Of-War   \n",
       "4  NED  1988 Winter  1988  Winter    Calgary  Speed Skating   \n",
       "\n",
       "                              Event Medal       region notes        BMI  \n",
       "0       Basketball Men's Basketball   NaN        China   NaN  24.691358  \n",
       "1      Judo Men's Extra-Lightweight   NaN        China   NaN  20.761246  \n",
       "2           Football Men's Football   NaN      Denmark   NaN        NaN  \n",
       "3       Tug-Of-War Men's Tug-Of-War  Gold      Denmark   NaN        NaN  \n",
       "4  Speed Skating Women's 500 metres   NaN  Netherlands   NaN  23.959094  "
      ]
     },
     "execution_count": 15,
     "metadata": {},
     "output_type": "execute_result"
    }
   ],
   "source": [
    "df_merged.head(5)"
   ]
  },
  {
   "cell_type": "code",
   "execution_count": 16,
   "id": "76cfc191-ba7e-42d1-96e7-8ee549f87417",
   "metadata": {},
   "outputs": [
    {
     "data": {
      "text/plain": [
       "ID        False\n",
       "Name      False\n",
       "Sex       False\n",
       "Age        True\n",
       "Height     True\n",
       "Weight     True\n",
       "Team      False\n",
       "NOC       False\n",
       "Games     False\n",
       "Year      False\n",
       "Season    False\n",
       "City      False\n",
       "Sport     False\n",
       "Event     False\n",
       "Medal      True\n",
       "region     True\n",
       "notes      True\n",
       "BMI        True\n",
       "dtype: bool"
      ]
     },
     "execution_count": 16,
     "metadata": {},
     "output_type": "execute_result"
    }
   ],
   "source": [
    "df_merged.isnull().any()"
   ]
  },
  {
   "cell_type": "code",
   "execution_count": 17,
   "id": "7dfe1118-e289-45e4-baba-2c909d2fc224",
   "metadata": {},
   "outputs": [
    {
     "data": {
      "text/html": [
       "<div>\n",
       "<style scoped>\n",
       "    .dataframe tbody tr th:only-of-type {\n",
       "        vertical-align: middle;\n",
       "    }\n",
       "\n",
       "    .dataframe tbody tr th {\n",
       "        vertical-align: top;\n",
       "    }\n",
       "\n",
       "    .dataframe thead th {\n",
       "        text-align: right;\n",
       "    }\n",
       "</style>\n",
       "<table border=\"1\" class=\"dataframe\">\n",
       "  <thead>\n",
       "    <tr style=\"text-align: right;\">\n",
       "      <th></th>\n",
       "      <th>ID</th>\n",
       "      <th>Name</th>\n",
       "      <th>Sex</th>\n",
       "      <th>Age</th>\n",
       "      <th>Height</th>\n",
       "      <th>Weight</th>\n",
       "      <th>Team</th>\n",
       "      <th>NOC</th>\n",
       "      <th>Games</th>\n",
       "      <th>Year</th>\n",
       "      <th>Season</th>\n",
       "      <th>City</th>\n",
       "      <th>Sport</th>\n",
       "      <th>Event</th>\n",
       "      <th>Medal</th>\n",
       "      <th>region</th>\n",
       "      <th>notes</th>\n",
       "      <th>BMI</th>\n",
       "    </tr>\n",
       "  </thead>\n",
       "  <tbody>\n",
       "    <tr>\n",
       "      <th>0</th>\n",
       "      <td>1</td>\n",
       "      <td>A Dijiang</td>\n",
       "      <td>M</td>\n",
       "      <td>24.0</td>\n",
       "      <td>180.0</td>\n",
       "      <td>80.0</td>\n",
       "      <td>China</td>\n",
       "      <td>CHN</td>\n",
       "      <td>1992 Summer</td>\n",
       "      <td>1992</td>\n",
       "      <td>Summer</td>\n",
       "      <td>Barcelona</td>\n",
       "      <td>Basketball</td>\n",
       "      <td>Basketball Men's Basketball</td>\n",
       "      <td>NaN</td>\n",
       "      <td>China</td>\n",
       "      <td>NaN</td>\n",
       "      <td>24.691358</td>\n",
       "    </tr>\n",
       "    <tr>\n",
       "      <th>1</th>\n",
       "      <td>2</td>\n",
       "      <td>A Lamusi</td>\n",
       "      <td>M</td>\n",
       "      <td>23.0</td>\n",
       "      <td>170.0</td>\n",
       "      <td>60.0</td>\n",
       "      <td>China</td>\n",
       "      <td>CHN</td>\n",
       "      <td>2012 Summer</td>\n",
       "      <td>2012</td>\n",
       "      <td>Summer</td>\n",
       "      <td>London</td>\n",
       "      <td>Judo</td>\n",
       "      <td>Judo Men's Extra-Lightweight</td>\n",
       "      <td>NaN</td>\n",
       "      <td>China</td>\n",
       "      <td>NaN</td>\n",
       "      <td>20.761246</td>\n",
       "    </tr>\n",
       "    <tr>\n",
       "      <th>2</th>\n",
       "      <td>3</td>\n",
       "      <td>Gunnar Nielsen Aaby</td>\n",
       "      <td>M</td>\n",
       "      <td>24.0</td>\n",
       "      <td>NaN</td>\n",
       "      <td>NaN</td>\n",
       "      <td>Denmark</td>\n",
       "      <td>DEN</td>\n",
       "      <td>1920 Summer</td>\n",
       "      <td>1920</td>\n",
       "      <td>Summer</td>\n",
       "      <td>Antwerpen</td>\n",
       "      <td>Football</td>\n",
       "      <td>Football Men's Football</td>\n",
       "      <td>NaN</td>\n",
       "      <td>Denmark</td>\n",
       "      <td>NaN</td>\n",
       "      <td>NaN</td>\n",
       "    </tr>\n",
       "    <tr>\n",
       "      <th>3</th>\n",
       "      <td>4</td>\n",
       "      <td>Edgar Lindenau Aabye</td>\n",
       "      <td>M</td>\n",
       "      <td>34.0</td>\n",
       "      <td>NaN</td>\n",
       "      <td>NaN</td>\n",
       "      <td>Denmark/Sweden</td>\n",
       "      <td>DEN</td>\n",
       "      <td>1900 Summer</td>\n",
       "      <td>1900</td>\n",
       "      <td>Summer</td>\n",
       "      <td>Paris</td>\n",
       "      <td>Tug-Of-War</td>\n",
       "      <td>Tug-Of-War Men's Tug-Of-War</td>\n",
       "      <td>Gold</td>\n",
       "      <td>Denmark</td>\n",
       "      <td>NaN</td>\n",
       "      <td>NaN</td>\n",
       "    </tr>\n",
       "    <tr>\n",
       "      <th>4</th>\n",
       "      <td>5</td>\n",
       "      <td>Christine Jacoba Aaftink</td>\n",
       "      <td>F</td>\n",
       "      <td>21.0</td>\n",
       "      <td>185.0</td>\n",
       "      <td>82.0</td>\n",
       "      <td>Netherlands</td>\n",
       "      <td>NED</td>\n",
       "      <td>1988 Winter</td>\n",
       "      <td>1988</td>\n",
       "      <td>Winter</td>\n",
       "      <td>Calgary</td>\n",
       "      <td>Speed Skating</td>\n",
       "      <td>Speed Skating Women's 500 metres</td>\n",
       "      <td>NaN</td>\n",
       "      <td>Netherlands</td>\n",
       "      <td>NaN</td>\n",
       "      <td>23.959094</td>\n",
       "    </tr>\n",
       "  </tbody>\n",
       "</table>\n",
       "</div>"
      ],
      "text/plain": [
       "   ID                      Name Sex   Age  Height  Weight            Team  \\\n",
       "0   1                 A Dijiang   M  24.0   180.0    80.0           China   \n",
       "1   2                  A Lamusi   M  23.0   170.0    60.0           China   \n",
       "2   3       Gunnar Nielsen Aaby   M  24.0     NaN     NaN         Denmark   \n",
       "3   4      Edgar Lindenau Aabye   M  34.0     NaN     NaN  Denmark/Sweden   \n",
       "4   5  Christine Jacoba Aaftink   F  21.0   185.0    82.0     Netherlands   \n",
       "\n",
       "   NOC        Games  Year  Season       City          Sport  \\\n",
       "0  CHN  1992 Summer  1992  Summer  Barcelona     Basketball   \n",
       "1  CHN  2012 Summer  2012  Summer     London           Judo   \n",
       "2  DEN  1920 Summer  1920  Summer  Antwerpen       Football   \n",
       "3  DEN  1900 Summer  1900  Summer      Paris     Tug-Of-War   \n",
       "4  NED  1988 Winter  1988  Winter    Calgary  Speed Skating   \n",
       "\n",
       "                              Event Medal       region notes        BMI  \n",
       "0       Basketball Men's Basketball   NaN        China   NaN  24.691358  \n",
       "1      Judo Men's Extra-Lightweight   NaN        China   NaN  20.761246  \n",
       "2           Football Men's Football   NaN      Denmark   NaN        NaN  \n",
       "3       Tug-Of-War Men's Tug-Of-War  Gold      Denmark   NaN        NaN  \n",
       "4  Speed Skating Women's 500 metres   NaN  Netherlands   NaN  23.959094  "
      ]
     },
     "execution_count": 17,
     "metadata": {},
     "output_type": "execute_result"
    }
   ],
   "source": [
    "df_Age_ok = df_merged[np.isfinite(df_merged['Age'])]\n",
    "df_Age_ok.head()"
   ]
  },
  {
   "cell_type": "code",
   "execution_count": 18,
   "id": "a779e409-5064-4d24-83dc-29f7057f1dfd",
   "metadata": {},
   "outputs": [
    {
     "data": {
      "text/html": [
       "<div>\n",
       "<style scoped>\n",
       "    .dataframe tbody tr th:only-of-type {\n",
       "        vertical-align: middle;\n",
       "    }\n",
       "\n",
       "    .dataframe tbody tr th {\n",
       "        vertical-align: top;\n",
       "    }\n",
       "\n",
       "    .dataframe thead th {\n",
       "        text-align: right;\n",
       "    }\n",
       "</style>\n",
       "<table border=\"1\" class=\"dataframe\">\n",
       "  <thead>\n",
       "    <tr style=\"text-align: right;\">\n",
       "      <th></th>\n",
       "      <th>ID</th>\n",
       "      <th>Age</th>\n",
       "      <th>Height</th>\n",
       "      <th>Weight</th>\n",
       "      <th>Year</th>\n",
       "      <th>BMI</th>\n",
       "    </tr>\n",
       "  </thead>\n",
       "  <tbody>\n",
       "    <tr>\n",
       "      <th>count</th>\n",
       "      <td>261642.000000</td>\n",
       "      <td>261642.000000</td>\n",
       "      <td>210068.000000</td>\n",
       "      <td>207379.000000</td>\n",
       "      <td>261642.000000</td>\n",
       "      <td>206165.000000</td>\n",
       "    </tr>\n",
       "    <tr>\n",
       "      <th>mean</th>\n",
       "      <td>68291.263960</td>\n",
       "      <td>25.556898</td>\n",
       "      <td>175.351367</td>\n",
       "      <td>70.712603</td>\n",
       "      <td>1980.100221</td>\n",
       "      <td>22.784242</td>\n",
       "    </tr>\n",
       "    <tr>\n",
       "      <th>std</th>\n",
       "      <td>38997.527135</td>\n",
       "      <td>6.393561</td>\n",
       "      <td>10.524847</td>\n",
       "      <td>14.358602</td>\n",
       "      <td>28.629035</td>\n",
       "      <td>2.912173</td>\n",
       "    </tr>\n",
       "    <tr>\n",
       "      <th>min</th>\n",
       "      <td>1.000000</td>\n",
       "      <td>10.000000</td>\n",
       "      <td>127.000000</td>\n",
       "      <td>25.000000</td>\n",
       "      <td>1896.000000</td>\n",
       "      <td>8.360954</td>\n",
       "    </tr>\n",
       "    <tr>\n",
       "      <th>25%</th>\n",
       "      <td>34755.250000</td>\n",
       "      <td>21.000000</td>\n",
       "      <td>168.000000</td>\n",
       "      <td>60.000000</td>\n",
       "      <td>1964.000000</td>\n",
       "      <td>20.957171</td>\n",
       "    </tr>\n",
       "    <tr>\n",
       "      <th>50%</th>\n",
       "      <td>68198.000000</td>\n",
       "      <td>24.000000</td>\n",
       "      <td>175.000000</td>\n",
       "      <td>70.000000</td>\n",
       "      <td>1988.000000</td>\n",
       "      <td>22.530864</td>\n",
       "    </tr>\n",
       "    <tr>\n",
       "      <th>75%</th>\n",
       "      <td>102108.750000</td>\n",
       "      <td>28.000000</td>\n",
       "      <td>183.000000</td>\n",
       "      <td>79.000000</td>\n",
       "      <td>2004.000000</td>\n",
       "      <td>24.212293</td>\n",
       "    </tr>\n",
       "    <tr>\n",
       "      <th>max</th>\n",
       "      <td>135571.000000</td>\n",
       "      <td>97.000000</td>\n",
       "      <td>226.000000</td>\n",
       "      <td>214.000000</td>\n",
       "      <td>2016.000000</td>\n",
       "      <td>63.901580</td>\n",
       "    </tr>\n",
       "  </tbody>\n",
       "</table>\n",
       "</div>"
      ],
      "text/plain": [
       "                  ID            Age         Height         Weight  \\\n",
       "count  261642.000000  261642.000000  210068.000000  207379.000000   \n",
       "mean    68291.263960      25.556898     175.351367      70.712603   \n",
       "std     38997.527135       6.393561      10.524847      14.358602   \n",
       "min         1.000000      10.000000     127.000000      25.000000   \n",
       "25%     34755.250000      21.000000     168.000000      60.000000   \n",
       "50%     68198.000000      24.000000     175.000000      70.000000   \n",
       "75%    102108.750000      28.000000     183.000000      79.000000   \n",
       "max    135571.000000      97.000000     226.000000     214.000000   \n",
       "\n",
       "                Year            BMI  \n",
       "count  261642.000000  206165.000000  \n",
       "mean     1980.100221      22.784242  \n",
       "std        28.629035       2.912173  \n",
       "min      1896.000000       8.360954  \n",
       "25%      1964.000000      20.957171  \n",
       "50%      1988.000000      22.530864  \n",
       "75%      2004.000000      24.212293  \n",
       "max      2016.000000      63.901580  "
      ]
     },
     "execution_count": 18,
     "metadata": {},
     "output_type": "execute_result"
    }
   ],
   "source": [
    "df_Age_ok.describe()"
   ]
  },
  {
   "cell_type": "markdown",
   "id": "eebf512c-a22b-42be-b42d-af7e35a7fa6e",
   "metadata": {},
   "source": [
    "##### La media de edad de la base de datos sin valores nulos es de 25.557 años, y es la primera varible que vamos a usar para validar las muestras obtenidas.\n",
    "##### Con el objeto de tener otra variable de control de las muestras propuestas, se ha definido la variable BMI que sintetiza en un índice, dos campos de información contenidos en el Data frame: Height y Weitht.\n",
    "##### La media de BMI = 22.784, será otra de las variables de control para validar las muestras obtenidas."
   ]
  },
  {
   "cell_type": "markdown",
   "id": "00868fdf-d7f5-4791-8a45-a75de8777c08",
   "metadata": {},
   "source": [
    "#### D) Representación gráfica de la información relevante"
   ]
  },
  {
   "cell_type": "markdown",
   "id": "ed6b9fa2-fed0-4ac3-9e88-fe1d756aff74",
   "metadata": {},
   "source": [
    "##### d.1) Boxplot de distribución de las edades de los atletas por sexo (Age bySex)"
   ]
  },
  {
   "cell_type": "code",
   "execution_count": 19,
   "id": "f78387e4-390e-435b-a55e-66add8edf838",
   "metadata": {},
   "outputs": [
    {
     "data": {
      "image/png": "[encoded data removed]",
      "text/plain": [
       "<Figure size 432x432 with 1 Axes>"
      ]
     },
     "metadata": {},
     "output_type": "display_data"
    }
   ],
   "source": [
    "plt.figure(figsize=(6,6))\n",
    "plt.title('POPULATION Age & bySex')\n",
    "plot1= sns.boxplot(data=df_Age_ok.sort_values(by=\"Age\",ascending=True), x=\"Age\", y=\"Sex\", orient=\"h\", showmeans=True, palette=\"coolwarm\")\n",
    "plot1.figure.savefig(\"Grafico1_age_sex_plot.png\")"
   ]
  },
  {
   "cell_type": "code",
   "execution_count": 20,
   "id": "32935fc4-556c-42bb-8a07-2351df556024",
   "metadata": {},
   "outputs": [
    {
     "name": "stdout",
     "output_type": "stream",
     "text": [
      "Edad Media de la Población:  25.557\n"
     ]
    }
   ],
   "source": [
    "real_mean =round( df_Age_ok.Age.sum()/len(df_Age_ok),3)\n",
    "print(\"Edad Media de la Población: \", real_mean)"
   ]
  },
  {
   "cell_type": "code",
   "execution_count": 21,
   "id": "f4bc0923-383a-45b4-bf76-afe136363c99",
   "metadata": {},
   "outputs": [
    {
     "name": "stdout",
     "output_type": "stream",
     "text": [
      "Edad Media de la Población bySex Sex\n",
      "F    23.733\n",
      "M    26.278\n",
      "Name: Age, dtype: float64\n"
     ]
    }
   ],
   "source": [
    "real_bySex_mean= df_Age_ok.groupby(by=\"Sex\").mean(\"Age\")\n",
    "print(\"Edad Media de la Población bySex\", round(real_bySex_mean[\"Age\"],3))"
   ]
  },
  {
   "cell_type": "markdown",
   "id": "c7faa9d5-4847-4039-b908-3a1b08694829",
   "metadata": {},
   "source": [
    "##### d.2) Boxplot de distribución de las edades de los atletas por Medallas y sexo (Age/ Medal bySex)"
   ]
  },
  {
   "cell_type": "code",
   "execution_count": 22,
   "id": "53a6ac07-3354-455a-b9c6-43785d068a86",
   "metadata": {},
   "outputs": [
    {
     "data": {
      "image/png": "[encoded data removed]",
      "text/plain": [
       "<Figure size 432x432 with 1 Axes>"
      ]
     },
     "metadata": {},
     "output_type": "display_data"
    }
   ],
   "source": [
    "plt.figure(figsize=(6,6))\n",
    "plt.title(f'POPULATION Age & BySex')\n",
    "plot1= sns.boxplot(data=df_Age_ok.sort_values(by=\"Age\",ascending=True), x=\"Age\", y=\"Medal\", hue=\"Sex\",orient=\"h\", showmeans=True, palette=\"coolwarm\")\n",
    "plot1.figure.savefig(\"Grafico1_age_Sex_Medal_plot.png\")"
   ]
  },
  {
   "cell_type": "markdown",
   "id": "031c1d23-cf29-42b6-ab27-985fb98a4fd2",
   "metadata": {},
   "source": [
    "##### d.3) Boxplot de distribución del BMI de los atletas por Medallas y sexo (BMI / Medal bySex)"
   ]
  },
  {
   "cell_type": "code",
   "execution_count": 23,
   "id": "35762391-856d-42f0-b02f-2723c3f0b4f9",
   "metadata": {},
   "outputs": [
    {
     "data": {
      "image/png": "[encoded data removed]",
      "text/plain": [
       "<Figure size 432x432 with 1 Axes>"
      ]
     },
     "metadata": {},
     "output_type": "display_data"
    }
   ],
   "source": [
    "plt.figure(figsize=(6,6))\n",
    "plt.title(f'POPULATION BMI & BySex')\n",
    "plot1= sns.boxplot(data=df_Age_ok.sort_values(by=\"BMI\",ascending=True), x=\"BMI\", y=\"Medal\",hue=\"Sex\",orient=\"h\", showmeans=True, palette=\"coolwarm\")\n",
    "plot1.figure.savefig(\"Grafico1_BMI_Medal_Sex_plot.png\")"
   ]
  },
  {
   "cell_type": "markdown",
   "id": "6cba60e1-7ca9-48c9-a232-bb8b9fa784ef",
   "metadata": {},
   "source": [
    "#### E) Simple random sampling"
   ]
  },
  {
   "cell_type": "code",
   "execution_count": 24,
   "id": "d54f0f69-dfe4-407a-9cbc-6552d9a3e6f1",
   "metadata": {},
   "outputs": [
    {
     "data": {
      "text/plain": [
       "(261642, 18)"
      ]
     },
     "execution_count": 24,
     "metadata": {},
     "output_type": "execute_result"
    }
   ],
   "source": [
    "df_Age_ok.shape"
   ]
  },
  {
   "cell_type": "code",
   "execution_count": 25,
   "id": "5ca8c713-592d-415c-8c10-03dff72c24cc",
   "metadata": {},
   "outputs": [],
   "source": [
    "df=df_Age_ok\n",
    "simple_rand = df.sample(frac=0.1, replace=True, random_state=26164)"
   ]
  },
  {
   "cell_type": "code",
   "execution_count": 26,
   "id": "ca6013ed-215a-4b28-93c3-08f2279629de",
   "metadata": {},
   "outputs": [
    {
     "data": {
      "text/html": [
       "<div>\n",
       "<style scoped>\n",
       "    .dataframe tbody tr th:only-of-type {\n",
       "        vertical-align: middle;\n",
       "    }\n",
       "\n",
       "    .dataframe tbody tr th {\n",
       "        vertical-align: top;\n",
       "    }\n",
       "\n",
       "    .dataframe thead th {\n",
       "        text-align: right;\n",
       "    }\n",
       "</style>\n",
       "<table border=\"1\" class=\"dataframe\">\n",
       "  <thead>\n",
       "    <tr style=\"text-align: right;\">\n",
       "      <th></th>\n",
       "      <th>ID</th>\n",
       "      <th>Name</th>\n",
       "      <th>Sex</th>\n",
       "      <th>Age</th>\n",
       "      <th>Height</th>\n",
       "      <th>Weight</th>\n",
       "      <th>Team</th>\n",
       "      <th>NOC</th>\n",
       "      <th>Games</th>\n",
       "      <th>Year</th>\n",
       "      <th>Season</th>\n",
       "      <th>City</th>\n",
       "      <th>Sport</th>\n",
       "      <th>Event</th>\n",
       "      <th>Medal</th>\n",
       "      <th>region</th>\n",
       "      <th>notes</th>\n",
       "      <th>BMI</th>\n",
       "    </tr>\n",
       "  </thead>\n",
       "  <tbody>\n",
       "    <tr>\n",
       "      <th>90047</th>\n",
       "      <td>45631</td>\n",
       "      <td>Lynley Joye Hannen (-Coventry)</td>\n",
       "      <td>F</td>\n",
       "      <td>24.0</td>\n",
       "      <td>175.0</td>\n",
       "      <td>70.0</td>\n",
       "      <td>New Zealand</td>\n",
       "      <td>NZL</td>\n",
       "      <td>1988 Summer</td>\n",
       "      <td>1988</td>\n",
       "      <td>Summer</td>\n",
       "      <td>Seoul</td>\n",
       "      <td>Rowing</td>\n",
       "      <td>Rowing Women's Coxless Pairs</td>\n",
       "      <td>Bronze</td>\n",
       "      <td>New Zealand</td>\n",
       "      <td>NaN</td>\n",
       "      <td>22.857143</td>\n",
       "    </tr>\n",
       "    <tr>\n",
       "      <th>53951</th>\n",
       "      <td>27679</td>\n",
       "      <td>Hilaire Walter Deprez</td>\n",
       "      <td>M</td>\n",
       "      <td>30.0</td>\n",
       "      <td>NaN</td>\n",
       "      <td>NaN</td>\n",
       "      <td>Belgium</td>\n",
       "      <td>BEL</td>\n",
       "      <td>1952 Summer</td>\n",
       "      <td>1952</td>\n",
       "      <td>Summer</td>\n",
       "      <td>Helsinki</td>\n",
       "      <td>Canoeing</td>\n",
       "      <td>Canoeing Men's Kayak Singles, 10,000 metres</td>\n",
       "      <td>NaN</td>\n",
       "      <td>Belgium</td>\n",
       "      <td>NaN</td>\n",
       "      <td>NaN</td>\n",
       "    </tr>\n",
       "    <tr>\n",
       "      <th>80634</th>\n",
       "      <td>40939</td>\n",
       "      <td>Gerald Sydney Goddard</td>\n",
       "      <td>M</td>\n",
       "      <td>31.0</td>\n",
       "      <td>NaN</td>\n",
       "      <td>NaN</td>\n",
       "      <td>South Africa</td>\n",
       "      <td>RSA</td>\n",
       "      <td>1952 Summer</td>\n",
       "      <td>1952</td>\n",
       "      <td>Summer</td>\n",
       "      <td>Helsinki</td>\n",
       "      <td>Water Polo</td>\n",
       "      <td>Water Polo Men's Water Polo</td>\n",
       "      <td>NaN</td>\n",
       "      <td>South Africa</td>\n",
       "      <td>NaN</td>\n",
       "      <td>NaN</td>\n",
       "    </tr>\n",
       "    <tr>\n",
       "      <th>111309</th>\n",
       "      <td>56315</td>\n",
       "      <td>Josef Jungmann</td>\n",
       "      <td>M</td>\n",
       "      <td>36.0</td>\n",
       "      <td>NaN</td>\n",
       "      <td>NaN</td>\n",
       "      <td>Czechoslovakia</td>\n",
       "      <td>TCH</td>\n",
       "      <td>1924 Summer</td>\n",
       "      <td>1924</td>\n",
       "      <td>Summer</td>\n",
       "      <td>Paris</td>\n",
       "      <td>Fencing</td>\n",
       "      <td>Fencing Men's epee, Individual</td>\n",
       "      <td>NaN</td>\n",
       "      <td>Czech Republic</td>\n",
       "      <td>NaN</td>\n",
       "      <td>NaN</td>\n",
       "    </tr>\n",
       "    <tr>\n",
       "      <th>48750</th>\n",
       "      <td>25126</td>\n",
       "      <td>Ezio Damolin</td>\n",
       "      <td>M</td>\n",
       "      <td>23.0</td>\n",
       "      <td>178.0</td>\n",
       "      <td>68.0</td>\n",
       "      <td>Italy</td>\n",
       "      <td>ITA</td>\n",
       "      <td>1968 Winter</td>\n",
       "      <td>1968</td>\n",
       "      <td>Winter</td>\n",
       "      <td>Grenoble</td>\n",
       "      <td>Nordic Combined</td>\n",
       "      <td>Nordic Combined Men's Individual</td>\n",
       "      <td>NaN</td>\n",
       "      <td>Italy</td>\n",
       "      <td>NaN</td>\n",
       "      <td>21.461937</td>\n",
       "    </tr>\n",
       "  </tbody>\n",
       "</table>\n",
       "</div>"
      ],
      "text/plain": [
       "           ID                            Name Sex   Age  Height  Weight  \\\n",
       "90047   45631  Lynley Joye Hannen (-Coventry)   F  24.0   175.0    70.0   \n",
       "53951   27679           Hilaire Walter Deprez   M  30.0     NaN     NaN   \n",
       "80634   40939           Gerald Sydney Goddard   M  31.0     NaN     NaN   \n",
       "111309  56315                  Josef Jungmann   M  36.0     NaN     NaN   \n",
       "48750   25126                    Ezio Damolin   M  23.0   178.0    68.0   \n",
       "\n",
       "                  Team  NOC        Games  Year  Season      City  \\\n",
       "90047      New Zealand  NZL  1988 Summer  1988  Summer     Seoul   \n",
       "53951          Belgium  BEL  1952 Summer  1952  Summer  Helsinki   \n",
       "80634     South Africa  RSA  1952 Summer  1952  Summer  Helsinki   \n",
       "111309  Czechoslovakia  TCH  1924 Summer  1924  Summer     Paris   \n",
       "48750            Italy  ITA  1968 Winter  1968  Winter  Grenoble   \n",
       "\n",
       "                  Sport                                        Event   Medal  \\\n",
       "90047            Rowing                 Rowing Women's Coxless Pairs  Bronze   \n",
       "53951          Canoeing  Canoeing Men's Kayak Singles, 10,000 metres     NaN   \n",
       "80634        Water Polo                  Water Polo Men's Water Polo     NaN   \n",
       "111309          Fencing               Fencing Men's epee, Individual     NaN   \n",
       "48750   Nordic Combined             Nordic Combined Men's Individual     NaN   \n",
       "\n",
       "                region notes        BMI  \n",
       "90047      New Zealand   NaN  22.857143  \n",
       "53951          Belgium   NaN        NaN  \n",
       "80634     South Africa   NaN        NaN  \n",
       "111309  Czech Republic   NaN        NaN  \n",
       "48750            Italy   NaN  21.461937  "
      ]
     },
     "execution_count": 26,
     "metadata": {},
     "output_type": "execute_result"
    }
   ],
   "source": [
    "simple_rand.head()"
   ]
  },
  {
   "cell_type": "code",
   "execution_count": 27,
   "id": "64e28c87-4b57-4c93-990e-0380e671bce2",
   "metadata": {},
   "outputs": [
    {
     "data": {
      "text/plain": [
       "(26164, 18)"
      ]
     },
     "execution_count": 27,
     "metadata": {},
     "output_type": "execute_result"
    }
   ],
   "source": [
    "simple_rand.shape"
   ]
  },
  {
   "cell_type": "code",
   "execution_count": 28,
   "id": "9b7f7ac5-fef0-4499-b9cf-f2610195c2f6",
   "metadata": {},
   "outputs": [
    {
     "name": "stdout",
     "output_type": "stream",
     "text": [
      "Edad Media Simple Random Sampling :  25.581\n"
     ]
    }
   ],
   "source": [
    "simple_rand_mean= simple_rand[\"Age\"].mean()\n",
    "print(\"Edad Media Simple Random Sampling : \", round(simple_rand_mean,3))"
   ]
  },
  {
   "cell_type": "code",
   "execution_count": 29,
   "id": "f3fe0fe0-6617-474f-be2f-82a349e8b58b",
   "metadata": {},
   "outputs": [
    {
     "name": "stdout",
     "output_type": "stream",
     "text": [
      "Edad Media Simple Random Sampling by Sex\n",
      "F    23.852\n",
      "M    26.252\n",
      "Name: Age, dtype: float64\n"
     ]
    }
   ],
   "source": [
    "simple_rand_bySex_mean= simple_rand.groupby(by=\"Sex\").mean(\"Age\")\n",
    "print(\"Edad Media Simple Random Sampling by\", round(simple_rand_bySex_mean[\"Age\"],3))"
   ]
  },
  {
   "cell_type": "markdown",
   "id": "e21d4041-6040-4dbf-9c1e-5192ae6fc037",
   "metadata": {},
   "source": [
    "#### F) Systematic sampling"
   ]
  },
  {
   "cell_type": "code",
   "execution_count": 30,
   "id": "18b1ff1c-a14f-454b-b971-244c1418b9ec",
   "metadata": {},
   "outputs": [
    {
     "data": {
      "text/html": [
       "<div>\n",
       "<style scoped>\n",
       "    .dataframe tbody tr th:only-of-type {\n",
       "        vertical-align: middle;\n",
       "    }\n",
       "\n",
       "    .dataframe tbody tr th {\n",
       "        vertical-align: top;\n",
       "    }\n",
       "\n",
       "    .dataframe thead th {\n",
       "        text-align: right;\n",
       "    }\n",
       "</style>\n",
       "<table border=\"1\" class=\"dataframe\">\n",
       "  <thead>\n",
       "    <tr style=\"text-align: right;\">\n",
       "      <th></th>\n",
       "      <th>ID</th>\n",
       "      <th>Name</th>\n",
       "      <th>Sex</th>\n",
       "      <th>Age</th>\n",
       "      <th>Height</th>\n",
       "      <th>Weight</th>\n",
       "      <th>Team</th>\n",
       "      <th>NOC</th>\n",
       "      <th>Games</th>\n",
       "      <th>Year</th>\n",
       "      <th>Season</th>\n",
       "      <th>City</th>\n",
       "      <th>Sport</th>\n",
       "      <th>Event</th>\n",
       "      <th>Medal</th>\n",
       "      <th>region</th>\n",
       "      <th>notes</th>\n",
       "      <th>BMI</th>\n",
       "    </tr>\n",
       "  </thead>\n",
       "  <tbody>\n",
       "    <tr>\n",
       "      <th>0</th>\n",
       "      <td>1</td>\n",
       "      <td>A Dijiang</td>\n",
       "      <td>M</td>\n",
       "      <td>24.0</td>\n",
       "      <td>180.0</td>\n",
       "      <td>80.0</td>\n",
       "      <td>China</td>\n",
       "      <td>CHN</td>\n",
       "      <td>1992 Summer</td>\n",
       "      <td>1992</td>\n",
       "      <td>Summer</td>\n",
       "      <td>Barcelona</td>\n",
       "      <td>Basketball</td>\n",
       "      <td>Basketball Men's Basketball</td>\n",
       "      <td>NaN</td>\n",
       "      <td>China</td>\n",
       "      <td>NaN</td>\n",
       "      <td>24.691358</td>\n",
       "    </tr>\n",
       "    <tr>\n",
       "      <th>10</th>\n",
       "      <td>6</td>\n",
       "      <td>Per Knut Aaland</td>\n",
       "      <td>M</td>\n",
       "      <td>31.0</td>\n",
       "      <td>188.0</td>\n",
       "      <td>75.0</td>\n",
       "      <td>United States</td>\n",
       "      <td>USA</td>\n",
       "      <td>1992 Winter</td>\n",
       "      <td>1992</td>\n",
       "      <td>Winter</td>\n",
       "      <td>Albertville</td>\n",
       "      <td>Cross Country Skiing</td>\n",
       "      <td>Cross Country Skiing Men's 10 kilometres</td>\n",
       "      <td>NaN</td>\n",
       "      <td>USA</td>\n",
       "      <td>NaN</td>\n",
       "      <td>21.220009</td>\n",
       "    </tr>\n",
       "    <tr>\n",
       "      <th>20</th>\n",
       "      <td>7</td>\n",
       "      <td>John Aalberg</td>\n",
       "      <td>M</td>\n",
       "      <td>31.0</td>\n",
       "      <td>183.0</td>\n",
       "      <td>72.0</td>\n",
       "      <td>United States</td>\n",
       "      <td>USA</td>\n",
       "      <td>1992 Winter</td>\n",
       "      <td>1992</td>\n",
       "      <td>Winter</td>\n",
       "      <td>Albertville</td>\n",
       "      <td>Cross Country Skiing</td>\n",
       "      <td>Cross Country Skiing Men's 10/15 kilometres Pu...</td>\n",
       "      <td>NaN</td>\n",
       "      <td>USA</td>\n",
       "      <td>NaN</td>\n",
       "      <td>21.499597</td>\n",
       "    </tr>\n",
       "    <tr>\n",
       "      <th>30</th>\n",
       "      <td>11</td>\n",
       "      <td>Jorma Ilmari Aalto</td>\n",
       "      <td>M</td>\n",
       "      <td>22.0</td>\n",
       "      <td>182.0</td>\n",
       "      <td>76.5</td>\n",
       "      <td>Finland</td>\n",
       "      <td>FIN</td>\n",
       "      <td>1980 Winter</td>\n",
       "      <td>1980</td>\n",
       "      <td>Winter</td>\n",
       "      <td>Lake Placid</td>\n",
       "      <td>Cross Country Skiing</td>\n",
       "      <td>Cross Country Skiing Men's 30 kilometres</td>\n",
       "      <td>NaN</td>\n",
       "      <td>Finland</td>\n",
       "      <td>NaN</td>\n",
       "      <td>23.095037</td>\n",
       "    </tr>\n",
       "    <tr>\n",
       "      <th>40</th>\n",
       "      <td>16</td>\n",
       "      <td>Juhamatti Tapio Aaltonen</td>\n",
       "      <td>M</td>\n",
       "      <td>28.0</td>\n",
       "      <td>184.0</td>\n",
       "      <td>85.0</td>\n",
       "      <td>Finland</td>\n",
       "      <td>FIN</td>\n",
       "      <td>2014 Winter</td>\n",
       "      <td>2014</td>\n",
       "      <td>Winter</td>\n",
       "      <td>Sochi</td>\n",
       "      <td>Ice Hockey</td>\n",
       "      <td>Ice Hockey Men's Ice Hockey</td>\n",
       "      <td>Bronze</td>\n",
       "      <td>Finland</td>\n",
       "      <td>NaN</td>\n",
       "      <td>25.106333</td>\n",
       "    </tr>\n",
       "  </tbody>\n",
       "</table>\n",
       "</div>"
      ],
      "text/plain": [
       "    ID                      Name Sex   Age  Height  Weight           Team  \\\n",
       "0    1                 A Dijiang   M  24.0   180.0    80.0          China   \n",
       "10   6           Per Knut Aaland   M  31.0   188.0    75.0  United States   \n",
       "20   7              John Aalberg   M  31.0   183.0    72.0  United States   \n",
       "30  11        Jorma Ilmari Aalto   M  22.0   182.0    76.5        Finland   \n",
       "40  16  Juhamatti Tapio Aaltonen   M  28.0   184.0    85.0        Finland   \n",
       "\n",
       "    NOC        Games  Year  Season         City                 Sport  \\\n",
       "0   CHN  1992 Summer  1992  Summer    Barcelona            Basketball   \n",
       "10  USA  1992 Winter  1992  Winter  Albertville  Cross Country Skiing   \n",
       "20  USA  1992 Winter  1992  Winter  Albertville  Cross Country Skiing   \n",
       "30  FIN  1980 Winter  1980  Winter  Lake Placid  Cross Country Skiing   \n",
       "40  FIN  2014 Winter  2014  Winter        Sochi            Ice Hockey   \n",
       "\n",
       "                                                Event   Medal   region notes  \\\n",
       "0                         Basketball Men's Basketball     NaN    China   NaN   \n",
       "10           Cross Country Skiing Men's 10 kilometres     NaN      USA   NaN   \n",
       "20  Cross Country Skiing Men's 10/15 kilometres Pu...     NaN      USA   NaN   \n",
       "30           Cross Country Skiing Men's 30 kilometres     NaN  Finland   NaN   \n",
       "40                        Ice Hockey Men's Ice Hockey  Bronze  Finland   NaN   \n",
       "\n",
       "          BMI  \n",
       "0   24.691358  \n",
       "10  21.220009  \n",
       "20  21.499597  \n",
       "30  23.095037  \n",
       "40  25.106333  "
      ]
     },
     "execution_count": 30,
     "metadata": {},
     "output_type": "execute_result"
    }
   ],
   "source": [
    "index = np.arange(0,len(df_Age_ok),step=10)\n",
    "systematic_sample = df.iloc[index]\n",
    "systematic_sample.head()   "
   ]
  },
  {
   "cell_type": "code",
   "execution_count": 31,
   "id": "0c539b10-4be6-4ac5-a4be-4c0822c9c6f4",
   "metadata": {},
   "outputs": [
    {
     "data": {
      "text/html": [
       "<div>\n",
       "<style scoped>\n",
       "    .dataframe tbody tr th:only-of-type {\n",
       "        vertical-align: middle;\n",
       "    }\n",
       "\n",
       "    .dataframe tbody tr th {\n",
       "        vertical-align: top;\n",
       "    }\n",
       "\n",
       "    .dataframe thead th {\n",
       "        text-align: right;\n",
       "    }\n",
       "</style>\n",
       "<table border=\"1\" class=\"dataframe\">\n",
       "  <thead>\n",
       "    <tr style=\"text-align: right;\">\n",
       "      <th></th>\n",
       "      <th>ID</th>\n",
       "      <th>Age</th>\n",
       "      <th>Height</th>\n",
       "      <th>Weight</th>\n",
       "      <th>Year</th>\n",
       "      <th>BMI</th>\n",
       "    </tr>\n",
       "  </thead>\n",
       "  <tbody>\n",
       "    <tr>\n",
       "      <th>count</th>\n",
       "      <td>26165.000000</td>\n",
       "      <td>26165.000000</td>\n",
       "      <td>21060.000000</td>\n",
       "      <td>20815.000000</td>\n",
       "      <td>26165.000000</td>\n",
       "      <td>20686.000000</td>\n",
       "    </tr>\n",
       "    <tr>\n",
       "      <th>mean</th>\n",
       "      <td>68290.991630</td>\n",
       "      <td>25.550468</td>\n",
       "      <td>175.427825</td>\n",
       "      <td>70.870478</td>\n",
       "      <td>1980.239786</td>\n",
       "      <td>22.820887</td>\n",
       "    </tr>\n",
       "    <tr>\n",
       "      <th>std</th>\n",
       "      <td>38999.405751</td>\n",
       "      <td>6.466348</td>\n",
       "      <td>10.542359</td>\n",
       "      <td>14.455721</td>\n",
       "      <td>28.620467</td>\n",
       "      <td>2.926969</td>\n",
       "    </tr>\n",
       "    <tr>\n",
       "      <th>min</th>\n",
       "      <td>1.000000</td>\n",
       "      <td>11.000000</td>\n",
       "      <td>135.000000</td>\n",
       "      <td>25.000000</td>\n",
       "      <td>1896.000000</td>\n",
       "      <td>12.267562</td>\n",
       "    </tr>\n",
       "    <tr>\n",
       "      <th>25%</th>\n",
       "      <td>34755.000000</td>\n",
       "      <td>21.000000</td>\n",
       "      <td>168.000000</td>\n",
       "      <td>60.000000</td>\n",
       "      <td>1964.000000</td>\n",
       "      <td>20.983988</td>\n",
       "    </tr>\n",
       "    <tr>\n",
       "      <th>50%</th>\n",
       "      <td>68198.000000</td>\n",
       "      <td>24.000000</td>\n",
       "      <td>175.000000</td>\n",
       "      <td>70.000000</td>\n",
       "      <td>1988.000000</td>\n",
       "      <td>22.587833</td>\n",
       "    </tr>\n",
       "    <tr>\n",
       "      <th>75%</th>\n",
       "      <td>102108.000000</td>\n",
       "      <td>28.000000</td>\n",
       "      <td>183.000000</td>\n",
       "      <td>79.250000</td>\n",
       "      <td>2004.000000</td>\n",
       "      <td>24.221453</td>\n",
       "    </tr>\n",
       "    <tr>\n",
       "      <th>max</th>\n",
       "      <td>135571.000000</td>\n",
       "      <td>88.000000</td>\n",
       "      <td>223.000000</td>\n",
       "      <td>167.000000</td>\n",
       "      <td>2016.000000</td>\n",
       "      <td>50.975245</td>\n",
       "    </tr>\n",
       "  </tbody>\n",
       "</table>\n",
       "</div>"
      ],
      "text/plain": [
       "                  ID           Age        Height        Weight          Year  \\\n",
       "count   26165.000000  26165.000000  21060.000000  20815.000000  26165.000000   \n",
       "mean    68290.991630     25.550468    175.427825     70.870478   1980.239786   \n",
       "std     38999.405751      6.466348     10.542359     14.455721     28.620467   \n",
       "min         1.000000     11.000000    135.000000     25.000000   1896.000000   \n",
       "25%     34755.000000     21.000000    168.000000     60.000000   1964.000000   \n",
       "50%     68198.000000     24.000000    175.000000     70.000000   1988.000000   \n",
       "75%    102108.000000     28.000000    183.000000     79.250000   2004.000000   \n",
       "max    135571.000000     88.000000    223.000000    167.000000   2016.000000   \n",
       "\n",
       "                BMI  \n",
       "count  20686.000000  \n",
       "mean      22.820887  \n",
       "std        2.926969  \n",
       "min       12.267562  \n",
       "25%       20.983988  \n",
       "50%       22.587833  \n",
       "75%       24.221453  \n",
       "max       50.975245  "
      ]
     },
     "execution_count": 31,
     "metadata": {},
     "output_type": "execute_result"
    }
   ],
   "source": [
    "systematic_sample.describe()"
   ]
  },
  {
   "cell_type": "code",
   "execution_count": 32,
   "id": "d0a2f585-2222-4cc0-b03e-40fcd60c9317",
   "metadata": {},
   "outputs": [
    {
     "name": "stdout",
     "output_type": "stream",
     "text": [
      "Edad Media Systematic Sampling:  25.55\n"
     ]
    }
   ],
   "source": [
    "systematic_mean = round(systematic_sample.Age.mean(),3)\n",
    "print(\"Edad Media Systematic Sampling: \", systematic_mean)"
   ]
  },
  {
   "cell_type": "code",
   "execution_count": 33,
   "id": "9995522b-b142-47b9-9a21-e22316be2cd6",
   "metadata": {},
   "outputs": [
    {
     "name": "stdout",
     "output_type": "stream",
     "text": [
      "Edad Media Systematic sampling by Sex\n",
      "F    23.735\n",
      "M    26.267\n",
      "Name: Age, dtype: float64\n"
     ]
    }
   ],
   "source": [
    "systematic_bySex_mean= systematic_sample.groupby(by=\"Sex\").mean(\"Age\")\n",
    "print(\"Edad Media Systematic sampling by\", round(systematic_bySex_mean[\"Age\"],3))"
   ]
  },
  {
   "cell_type": "markdown",
   "id": "dbd6c457-e64b-4d3b-8582-ef930467ef75",
   "metadata": {},
   "source": [
    "## Nivell 2\n",
    "### Exercici 2\n",
    "#### Continua amb el conjunt de dades de tema esportiu i genera una mostra estratificada i una mostra utilitzant SMOTE (Synthetic Minority Oversampling Technique)."
   ]
  },
  {
   "cell_type": "markdown",
   "id": "f4605541-150b-41f5-a795-5cd5ea501df7",
   "metadata": {},
   "source": [
    "#### G) Stratified sampling"
   ]
  },
  {
   "cell_type": "code",
   "execution_count": 34,
   "id": "1f19f4be-c524-49c7-9476-b10346f53f78",
   "metadata": {},
   "outputs": [
    {
     "data": {
      "text/plain": [
       "Medal     Sex\n",
       "No Medal  M      159729\n",
       "          F       62862\n",
       "Gold      M        9480\n",
       "Bronze    M        9243\n",
       "Silver    M        9092\n",
       "Bronze    F        3763\n",
       "Gold      F        3744\n",
       "Silver    F        3729\n",
       "dtype: int64"
      ]
     },
     "execution_count": 34,
     "metadata": {},
     "output_type": "execute_result"
    }
   ],
   "source": [
    "df= df_Age_ok \n",
    "df[\"Medal\"].fillna(\"No Medal\", inplace = True) \n",
    "df[['Medal', 'Sex']].value_counts()"
   ]
  },
  {
   "cell_type": "code",
   "execution_count": 35,
   "id": "2620ca5e-b238-4eb0-8a1b-7df4528460b1",
   "metadata": {},
   "outputs": [],
   "source": [
    "train, stratified_sample = train_test_split(df, test_size=0.1, stratify=df[['Medal', 'Sex']])"
   ]
  },
  {
   "cell_type": "code",
   "execution_count": 36,
   "id": "be24b55f-708f-43e4-ad0d-71c91d72a0c1",
   "metadata": {},
   "outputs": [
    {
     "data": {
      "text/html": [
       "<div>\n",
       "<style scoped>\n",
       "    .dataframe tbody tr th:only-of-type {\n",
       "        vertical-align: middle;\n",
       "    }\n",
       "\n",
       "    .dataframe tbody tr th {\n",
       "        vertical-align: top;\n",
       "    }\n",
       "\n",
       "    .dataframe thead th {\n",
       "        text-align: right;\n",
       "    }\n",
       "</style>\n",
       "<table border=\"1\" class=\"dataframe\">\n",
       "  <thead>\n",
       "    <tr style=\"text-align: right;\">\n",
       "      <th></th>\n",
       "      <th>ID</th>\n",
       "      <th>Name</th>\n",
       "      <th>Sex</th>\n",
       "      <th>Age</th>\n",
       "      <th>Height</th>\n",
       "      <th>Weight</th>\n",
       "      <th>Team</th>\n",
       "      <th>NOC</th>\n",
       "      <th>Games</th>\n",
       "      <th>Year</th>\n",
       "      <th>Season</th>\n",
       "      <th>City</th>\n",
       "      <th>Sport</th>\n",
       "      <th>Event</th>\n",
       "      <th>Medal</th>\n",
       "      <th>region</th>\n",
       "      <th>notes</th>\n",
       "      <th>BMI</th>\n",
       "    </tr>\n",
       "  </thead>\n",
       "  <tbody>\n",
       "    <tr>\n",
       "      <th>73714</th>\n",
       "      <td>37454</td>\n",
       "      <td>Orlando E. Fuentes</td>\n",
       "      <td>M</td>\n",
       "      <td>21.0</td>\n",
       "      <td>NaN</td>\n",
       "      <td>65.0</td>\n",
       "      <td>United States</td>\n",
       "      <td>USA</td>\n",
       "      <td>1996 Summer</td>\n",
       "      <td>1996</td>\n",
       "      <td>Summer</td>\n",
       "      <td>Atlanta</td>\n",
       "      <td>Judo</td>\n",
       "      <td>Judo Men's Half-Lightweight</td>\n",
       "      <td>No Medal</td>\n",
       "      <td>USA</td>\n",
       "      <td>NaN</td>\n",
       "      <td>NaN</td>\n",
       "    </tr>\n",
       "    <tr>\n",
       "      <th>204610</th>\n",
       "      <td>102737</td>\n",
       "      <td>Albert \"Al\" Rossi</td>\n",
       "      <td>M</td>\n",
       "      <td>21.0</td>\n",
       "      <td>NaN</td>\n",
       "      <td>NaN</td>\n",
       "      <td>United States</td>\n",
       "      <td>USA</td>\n",
       "      <td>1952 Summer</td>\n",
       "      <td>1952</td>\n",
       "      <td>Summer</td>\n",
       "      <td>Helsinki</td>\n",
       "      <td>Rowing</td>\n",
       "      <td>Rowing Men's Coxed Fours</td>\n",
       "      <td>Bronze</td>\n",
       "      <td>USA</td>\n",
       "      <td>NaN</td>\n",
       "      <td>NaN</td>\n",
       "    </tr>\n",
       "    <tr>\n",
       "      <th>119869</th>\n",
       "      <td>60686</td>\n",
       "      <td>Sergey Aleksandrovich Kirdyapkin</td>\n",
       "      <td>M</td>\n",
       "      <td>28.0</td>\n",
       "      <td>178.0</td>\n",
       "      <td>66.0</td>\n",
       "      <td>Russia</td>\n",
       "      <td>RUS</td>\n",
       "      <td>2008 Summer</td>\n",
       "      <td>2008</td>\n",
       "      <td>Summer</td>\n",
       "      <td>Beijing</td>\n",
       "      <td>Athletics</td>\n",
       "      <td>Athletics Men's 50 kilometres Walk</td>\n",
       "      <td>No Medal</td>\n",
       "      <td>Russia</td>\n",
       "      <td>NaN</td>\n",
       "      <td>20.830703</td>\n",
       "    </tr>\n",
       "    <tr>\n",
       "      <th>204724</th>\n",
       "      <td>102802</td>\n",
       "      <td>Ernst Adriaan Rost-Onnes</td>\n",
       "      <td>M</td>\n",
       "      <td>30.0</td>\n",
       "      <td>184.0</td>\n",
       "      <td>76.0</td>\n",
       "      <td>Brazil</td>\n",
       "      <td>BRA</td>\n",
       "      <td>2016 Summer</td>\n",
       "      <td>2016</td>\n",
       "      <td>Summer</td>\n",
       "      <td>Rio de Janeiro</td>\n",
       "      <td>Hockey</td>\n",
       "      <td>Hockey Men's Hockey</td>\n",
       "      <td>No Medal</td>\n",
       "      <td>Brazil</td>\n",
       "      <td>NaN</td>\n",
       "      <td>22.448015</td>\n",
       "    </tr>\n",
       "    <tr>\n",
       "      <th>238930</th>\n",
       "      <td>119783</td>\n",
       "      <td>Donald Alexander Thomas</td>\n",
       "      <td>M</td>\n",
       "      <td>24.0</td>\n",
       "      <td>191.0</td>\n",
       "      <td>81.0</td>\n",
       "      <td>Bahamas</td>\n",
       "      <td>BAH</td>\n",
       "      <td>2008 Summer</td>\n",
       "      <td>2008</td>\n",
       "      <td>Summer</td>\n",
       "      <td>Beijing</td>\n",
       "      <td>Athletics</td>\n",
       "      <td>Athletics Men's High Jump</td>\n",
       "      <td>No Medal</td>\n",
       "      <td>Bahamas</td>\n",
       "      <td>NaN</td>\n",
       "      <td>22.203339</td>\n",
       "    </tr>\n",
       "    <tr>\n",
       "      <th>...</th>\n",
       "      <td>...</td>\n",
       "      <td>...</td>\n",
       "      <td>...</td>\n",
       "      <td>...</td>\n",
       "      <td>...</td>\n",
       "      <td>...</td>\n",
       "      <td>...</td>\n",
       "      <td>...</td>\n",
       "      <td>...</td>\n",
       "      <td>...</td>\n",
       "      <td>...</td>\n",
       "      <td>...</td>\n",
       "      <td>...</td>\n",
       "      <td>...</td>\n",
       "      <td>...</td>\n",
       "      <td>...</td>\n",
       "      <td>...</td>\n",
       "      <td>...</td>\n",
       "    </tr>\n",
       "    <tr>\n",
       "      <th>111323</th>\n",
       "      <td>56324</td>\n",
       "      <td>Leovegildo Lins da Gama Jnior</td>\n",
       "      <td>M</td>\n",
       "      <td>22.0</td>\n",
       "      <td>173.0</td>\n",
       "      <td>69.0</td>\n",
       "      <td>Brazil</td>\n",
       "      <td>BRA</td>\n",
       "      <td>1976 Summer</td>\n",
       "      <td>1976</td>\n",
       "      <td>Summer</td>\n",
       "      <td>Montreal</td>\n",
       "      <td>Football</td>\n",
       "      <td>Football Men's Football</td>\n",
       "      <td>No Medal</td>\n",
       "      <td>Brazil</td>\n",
       "      <td>NaN</td>\n",
       "      <td>23.054562</td>\n",
       "    </tr>\n",
       "    <tr>\n",
       "      <th>118693</th>\n",
       "      <td>60051</td>\n",
       "      <td>Kim Jin-Hae</td>\n",
       "      <td>M</td>\n",
       "      <td>21.0</td>\n",
       "      <td>170.0</td>\n",
       "      <td>66.0</td>\n",
       "      <td>South Korea</td>\n",
       "      <td>KOR</td>\n",
       "      <td>1984 Winter</td>\n",
       "      <td>1984</td>\n",
       "      <td>Winter</td>\n",
       "      <td>Sarajevo</td>\n",
       "      <td>Alpine Skiing</td>\n",
       "      <td>Alpine Skiing Men's Giant Slalom</td>\n",
       "      <td>No Medal</td>\n",
       "      <td>South Korea</td>\n",
       "      <td>NaN</td>\n",
       "      <td>22.837370</td>\n",
       "    </tr>\n",
       "    <tr>\n",
       "      <th>261175</th>\n",
       "      <td>130700</td>\n",
       "      <td>Yolanda Williams Garca</td>\n",
       "      <td>F</td>\n",
       "      <td>17.0</td>\n",
       "      <td>150.0</td>\n",
       "      <td>43.0</td>\n",
       "      <td>Cuba</td>\n",
       "      <td>CUB</td>\n",
       "      <td>1960 Summer</td>\n",
       "      <td>1960</td>\n",
       "      <td>Summer</td>\n",
       "      <td>Roma</td>\n",
       "      <td>Gymnastics</td>\n",
       "      <td>Gymnastics Women's Uneven Bars</td>\n",
       "      <td>No Medal</td>\n",
       "      <td>Cuba</td>\n",
       "      <td>NaN</td>\n",
       "      <td>19.111111</td>\n",
       "    </tr>\n",
       "    <tr>\n",
       "      <th>23532</th>\n",
       "      <td>12373</td>\n",
       "      <td>Mlanie Blouin</td>\n",
       "      <td>F</td>\n",
       "      <td>22.0</td>\n",
       "      <td>175.0</td>\n",
       "      <td>64.0</td>\n",
       "      <td>Canada</td>\n",
       "      <td>CAN</td>\n",
       "      <td>2012 Summer</td>\n",
       "      <td>2012</td>\n",
       "      <td>Summer</td>\n",
       "      <td>London</td>\n",
       "      <td>Athletics</td>\n",
       "      <td>Athletics Women's Pole Vault</td>\n",
       "      <td>No Medal</td>\n",
       "      <td>Canada</td>\n",
       "      <td>NaN</td>\n",
       "      <td>20.897959</td>\n",
       "    </tr>\n",
       "    <tr>\n",
       "      <th>174783</th>\n",
       "      <td>87801</td>\n",
       "      <td>Aleksey Aleksandrovich Obmochayev</td>\n",
       "      <td>M</td>\n",
       "      <td>23.0</td>\n",
       "      <td>188.0</td>\n",
       "      <td>90.0</td>\n",
       "      <td>Russia</td>\n",
       "      <td>RUS</td>\n",
       "      <td>2012 Summer</td>\n",
       "      <td>2012</td>\n",
       "      <td>Summer</td>\n",
       "      <td>London</td>\n",
       "      <td>Volleyball</td>\n",
       "      <td>Volleyball Men's Volleyball</td>\n",
       "      <td>Gold</td>\n",
       "      <td>Russia</td>\n",
       "      <td>NaN</td>\n",
       "      <td>25.464011</td>\n",
       "    </tr>\n",
       "  </tbody>\n",
       "</table>\n",
       "<p>26165 rows × 18 columns</p>\n",
       "</div>"
      ],
      "text/plain": [
       "            ID                               Name Sex   Age  Height  Weight  \\\n",
       "73714    37454                 Orlando E. Fuentes   M  21.0     NaN    65.0   \n",
       "204610  102737                  Albert \"Al\" Rossi   M  21.0     NaN     NaN   \n",
       "119869   60686   Sergey Aleksandrovich Kirdyapkin   M  28.0   178.0    66.0   \n",
       "204724  102802           Ernst Adriaan Rost-Onnes   M  30.0   184.0    76.0   \n",
       "238930  119783            Donald Alexander Thomas   M  24.0   191.0    81.0   \n",
       "...        ...                                ...  ..   ...     ...     ...   \n",
       "111323   56324      Leovegildo Lins da Gama Jnior   M  22.0   173.0    69.0   \n",
       "118693   60051                        Kim Jin-Hae   M  21.0   170.0    66.0   \n",
       "261175  130700             Yolanda Williams Garca   F  17.0   150.0    43.0   \n",
       "23532    12373                      Mlanie Blouin   F  22.0   175.0    64.0   \n",
       "174783   87801  Aleksey Aleksandrovich Obmochayev   M  23.0   188.0    90.0   \n",
       "\n",
       "                 Team  NOC        Games  Year  Season            City  \\\n",
       "73714   United States  USA  1996 Summer  1996  Summer         Atlanta   \n",
       "204610  United States  USA  1952 Summer  1952  Summer        Helsinki   \n",
       "119869         Russia  RUS  2008 Summer  2008  Summer         Beijing   \n",
       "204724         Brazil  BRA  2016 Summer  2016  Summer  Rio de Janeiro   \n",
       "238930        Bahamas  BAH  2008 Summer  2008  Summer         Beijing   \n",
       "...               ...  ...          ...   ...     ...             ...   \n",
       "111323         Brazil  BRA  1976 Summer  1976  Summer        Montreal   \n",
       "118693    South Korea  KOR  1984 Winter  1984  Winter        Sarajevo   \n",
       "261175           Cuba  CUB  1960 Summer  1960  Summer            Roma   \n",
       "23532          Canada  CAN  2012 Summer  2012  Summer          London   \n",
       "174783         Russia  RUS  2012 Summer  2012  Summer          London   \n",
       "\n",
       "                Sport                               Event     Medal  \\\n",
       "73714            Judo         Judo Men's Half-Lightweight  No Medal   \n",
       "204610         Rowing            Rowing Men's Coxed Fours    Bronze   \n",
       "119869      Athletics  Athletics Men's 50 kilometres Walk  No Medal   \n",
       "204724         Hockey                 Hockey Men's Hockey  No Medal   \n",
       "238930      Athletics           Athletics Men's High Jump  No Medal   \n",
       "...               ...                                 ...       ...   \n",
       "111323       Football             Football Men's Football  No Medal   \n",
       "118693  Alpine Skiing    Alpine Skiing Men's Giant Slalom  No Medal   \n",
       "261175     Gymnastics      Gymnastics Women's Uneven Bars  No Medal   \n",
       "23532       Athletics        Athletics Women's Pole Vault  No Medal   \n",
       "174783     Volleyball         Volleyball Men's Volleyball      Gold   \n",
       "\n",
       "             region notes        BMI  \n",
       "73714           USA   NaN        NaN  \n",
       "204610          USA   NaN        NaN  \n",
       "119869       Russia   NaN  20.830703  \n",
       "204724       Brazil   NaN  22.448015  \n",
       "238930      Bahamas   NaN  22.203339  \n",
       "...             ...   ...        ...  \n",
       "111323       Brazil   NaN  23.054562  \n",
       "118693  South Korea   NaN  22.837370  \n",
       "261175         Cuba   NaN  19.111111  \n",
       "23532        Canada   NaN  20.897959  \n",
       "174783       Russia   NaN  25.464011  \n",
       "\n",
       "[26165 rows x 18 columns]"
      ]
     },
     "execution_count": 36,
     "metadata": {},
     "output_type": "execute_result"
    }
   ],
   "source": [
    "stratified_sample"
   ]
  },
  {
   "cell_type": "code",
   "execution_count": 37,
   "id": "ca91c6e0-26f4-4eae-8db0-3f07ed78b657",
   "metadata": {},
   "outputs": [
    {
     "data": {
      "text/plain": [
       "Medal     Sex\n",
       "No Medal  M      15973\n",
       "          F       6287\n",
       "Gold      M        948\n",
       "Bronze    M        924\n",
       "Silver    M        909\n",
       "Bronze    F        376\n",
       "Gold      F        375\n",
       "Silver    F        373\n",
       "dtype: int64"
      ]
     },
     "execution_count": 37,
     "metadata": {},
     "output_type": "execute_result"
    }
   ],
   "source": [
    "stratified_sample[['Medal', 'Sex']].value_counts()"
   ]
  },
  {
   "cell_type": "code",
   "execution_count": 38,
   "id": "38f1ada1-7a7c-4500-825d-4a0d32f56d72",
   "metadata": {},
   "outputs": [
    {
     "name": "stdout",
     "output_type": "stream",
     "text": [
      "<class 'pandas.core.frame.DataFrame'>\n",
      "Int64Index: 26165 entries, 73714 to 174783\n",
      "Data columns (total 18 columns):\n",
      " #   Column  Non-Null Count  Dtype  \n",
      "---  ------  --------------  -----  \n",
      " 0   ID      26165 non-null  int64  \n",
      " 1   Name    26165 non-null  object \n",
      " 2   Sex     26165 non-null  object \n",
      " 3   Age     26165 non-null  float64\n",
      " 4   Height  21022 non-null  float64\n",
      " 5   Weight  20754 non-null  float64\n",
      " 6   Team    26165 non-null  object \n",
      " 7   NOC     26165 non-null  object \n",
      " 8   Games   26165 non-null  object \n",
      " 9   Year    26165 non-null  int64  \n",
      " 10  Season  26165 non-null  object \n",
      " 11  City    26165 non-null  object \n",
      " 12  Sport   26165 non-null  object \n",
      " 13  Event   26165 non-null  object \n",
      " 14  Medal   26165 non-null  object \n",
      " 15  region  26127 non-null  object \n",
      " 16  notes   488 non-null    object \n",
      " 17  BMI     20626 non-null  float64\n",
      "dtypes: float64(4), int64(2), object(12)\n",
      "memory usage: 3.8+ MB\n"
     ]
    }
   ],
   "source": [
    "stratified_sample.info()"
   ]
  },
  {
   "cell_type": "markdown",
   "id": "e72c3998-55d4-4b1b-84cf-6b4de922f928",
   "metadata": {},
   "source": [
    "##### Como se puede observar, la muestra estratificada se corresponde exáctamente con el 10% de los registros por tipos de medallas del Data frame original"
   ]
  },
  {
   "cell_type": "code",
   "execution_count": 39,
   "id": "0c3f4d13-4727-444e-8f31-62af9a717ecd",
   "metadata": {},
   "outputs": [
    {
     "name": "stdout",
     "output_type": "stream",
     "text": [
      "Edad Media Stratified Sample:  25.597\n"
     ]
    }
   ],
   "source": [
    "stratified_mean = round(stratified_sample.Age.mean(),3)\n",
    "print(\"Edad Media Stratified Sample: \", stratified_mean)"
   ]
  },
  {
   "cell_type": "code",
   "execution_count": 40,
   "id": "5fd8d9e7-232f-41b6-9cc9-b4927c8ae63f",
   "metadata": {},
   "outputs": [
    {
     "name": "stdout",
     "output_type": "stream",
     "text": [
      "Edad Media Stratified Sample by Sex\n",
      "F    23.749\n",
      "M    26.327\n",
      "Name: Age, dtype: float64\n"
     ]
    }
   ],
   "source": [
    "stratified_bySex_mean= stratified_sample.groupby(by=\"Sex\").mean(\"Age\")\n",
    "print(\"Edad Media Stratified Sample by\", round(stratified_bySex_mean[\"Age\"],3))"
   ]
  },
  {
   "cell_type": "markdown",
   "id": "a01702a8-0de0-4852-9152-43a7ca74a704",
   "metadata": {},
   "source": [
    "#### H) SMOTE (Synthetic Minority Oversampling Technique)"
   ]
  },
  {
   "cell_type": "markdown",
   "id": "a43600a0-4fe0-4931-b0f5-ce95a594a449",
   "metadata": {},
   "source": [
    "\"\"\"\n",
    "En muchas ocasiones, en un problema de clasificación ocurre que las clases que hay que discriminar no están representadas proporcionalmente, sino que una clase predomina sobre las otras o bien una clase tiene muy pocos elementos en el conjunto de datos.\n",
    "\n",
    "Si se intenta construir un clasificador directamente sin tener en cuenta este desequilibrio, el clasificador resultante seguramente tenderá a predecir la clase mayoritaria, dado que esa acción minimiza el error cometido al acertar la mayoría de veces, y clasificará erróneamente de forma sistemática los elementos de la clase minoritaria, los cuales, en ocasiones, son seguramente los más interesantes.\n",
    "\n",
    "Para solucionar este problema existen diferentes técnicas, como por ejemplo SMOTE, acrónimo de Synthetic Minority Oversampling Technique, basada en generar de forma sintética nuevos elementos de la clase minoritaria usando como referencia los elementos de dicha clase ya presentes en el conjunto de datos.\n",
    "\n",
    "SMOTE es un algoritmo que a partir de un elemento de la clase minoritaria elegido al azar, escoge un cierto número de vecinos más cercanos y  genera un nuevo elemento combinándolos linealmente de forma ponderada, e introduciendo un factor aleatorio para generar elementos parecidos. Existen diferentes versiones del algoritmo en función de cuántos vecinos y cómo se combinan para generar uno nuevo. Si repetimos este proceso es posible generar tantos elementos de la clase minoritaria como sea necesario para equilibrar el conjunto de datos.\n",
    "\"\"\""
   ]
  },
  {
   "cell_type": "markdown",
   "id": "607e772e-1b03-4564-86d6-c3bb6da112e0",
   "metadata": {},
   "source": [
    "\"\"\"\n",
    "Las ventajas de SMOTE son:\n",
    "\n",
    "a) La información no se pierde\n",
    "\n",
    "b) Esta técnica es sencilla y se puede interpretar e implementar fácilmente en el modelo\n",
    "\n",
    "c) Mejora el overfitting como ejemplos sintéticos. Esto ayudará a generar nuevas instancias en lugar de replicarlas\n",
    "\n",
    "\"\"\""
   ]
  },
  {
   "cell_type": "code",
   "execution_count": 41,
   "id": "472bdf74-0e0f-4036-86a6-7db41af8fbae",
   "metadata": {},
   "outputs": [],
   "source": [
    "df= df_Age_ok.dropna()\n",
    "df= df.loc[:,['Age','Sex','Medal','BMI']]"
   ]
  },
  {
   "cell_type": "code",
   "execution_count": 42,
   "id": "fabeb1a3-1abe-475b-aebf-72497671996b",
   "metadata": {},
   "outputs": [
    {
     "name": "stdout",
     "output_type": "stream",
     "text": [
      "<class 'pandas.core.frame.DataFrame'>\n",
      "Int64Index: 3477 entries, 734 to 270957\n",
      "Data columns (total 4 columns):\n",
      " #   Column  Non-Null Count  Dtype  \n",
      "---  ------  --------------  -----  \n",
      " 0   Age     3477 non-null   float64\n",
      " 1   Sex     3477 non-null   object \n",
      " 2   Medal   3477 non-null   object \n",
      " 3   BMI     3477 non-null   float64\n",
      "dtypes: float64(2), object(2)\n",
      "memory usage: 135.8+ KB\n"
     ]
    }
   ],
   "source": [
    "df.info()"
   ]
  },
  {
   "cell_type": "code",
   "execution_count": 43,
   "id": "cbfd9940-77a0-4335-8264-bb772771eb3a",
   "metadata": {},
   "outputs": [
    {
     "data": {
      "text/plain": [
       "Sex\n",
       "F      2758\n",
       "M      2758\n",
       "dtype: int64"
      ]
     },
     "execution_count": 43,
     "metadata": {},
     "output_type": "execute_result"
    }
   ],
   "source": [
    "oversample = SMOTE(sampling_strategy='not majority', k_neighbors=2, random_state=2578)\n",
    "X, y = oversample.fit_resample(df[['Age','BMI']], df[['Sex']])\n",
    "y.value_counts()"
   ]
  },
  {
   "cell_type": "code",
   "execution_count": 44,
   "id": "6ff876f1-0c02-42c7-8464-55366b764ab7",
   "metadata": {},
   "outputs": [],
   "source": [
    "X['Sex'] = y\n",
    "stratified_SMOTE=(X.groupby('Sex').apply(lambda x: x.sample(n=138, random_state=2758)).reset_index(level=0, drop=True))"
   ]
  },
  {
   "cell_type": "code",
   "execution_count": 45,
   "id": "85aa27b1-2e09-4b18-becf-8cb26be72692",
   "metadata": {},
   "outputs": [
    {
     "name": "stdout",
     "output_type": "stream",
     "text": [
      "Edad Media Stratified_SMOTE :  24.37018125475649\n"
     ]
    }
   ],
   "source": [
    "stratified_SMOTE_mean= stratified_SMOTE.Age.mean()\n",
    "print(\"Edad Media Stratified_SMOTE : \", stratified_SMOTE_mean)"
   ]
  },
  {
   "cell_type": "markdown",
   "id": "b8604f1d-88eb-422f-8918-3d8255ff6abb",
   "metadata": {},
   "source": [
    "##### La media de edad obtenida en este método es infeerior al la obtenida en el resto de métodos, porque el SMOTE no admite valores nulos en el Data Frame\n",
    "##### la población se ha reducido al número de atletas que tenían medalas con valor no nulo, 2.758 y es sobre la cual se va a extraer la muestra\n",
    "##### Por este motivo no se va a incluir los resultados en los cuadros resúmenes de todos los métodos."
   ]
  },
  {
   "cell_type": "code",
   "execution_count": 46,
   "id": "196b7a42-8c05-43fb-90d4-4b10bd538939",
   "metadata": {},
   "outputs": [
    {
     "name": "stdout",
     "output_type": "stream",
     "text": [
      "Edad Media Stratified_SMOTE by Sex\n",
      "F    23.450507\n",
      "M    25.289855\n",
      "Name: Age, dtype: float64\n"
     ]
    }
   ],
   "source": [
    "stratified_SMOTE_bySex_mean=stratified_SMOTE.groupby('Sex').Age.mean()\n",
    "print(\"Edad Media Stratified_SMOTE by\",stratified_SMOTE_bySex_mean)"
   ]
  },
  {
   "cell_type": "code",
   "execution_count": 47,
   "id": "3b667762-ec3b-494b-89ef-42331aec80d5",
   "metadata": {},
   "outputs": [
    {
     "name": "stdout",
     "output_type": "stream",
     "text": [
      "<class 'pandas.core.frame.DataFrame'>\n",
      "Int64Index: 276 entries, 5117 to 2811\n",
      "Data columns (total 3 columns):\n",
      " #   Column  Non-Null Count  Dtype  \n",
      "---  ------  --------------  -----  \n",
      " 0   Age     276 non-null    float64\n",
      " 1   BMI     276 non-null    float64\n",
      " 2   Sex     276 non-null    object \n",
      "dtypes: float64(2), object(1)\n",
      "memory usage: 8.6+ KB\n"
     ]
    }
   ],
   "source": [
    "stratified_SMOTE.info()"
   ]
  },
  {
   "cell_type": "code",
   "execution_count": 48,
   "id": "3039ca9c-741a-41e1-8d96-91acee6a85e8",
   "metadata": {},
   "outputs": [
    {
     "data": {
      "text/plain": [
       "F    0.5\n",
       "M    0.5\n",
       "Name: Sex, dtype: float64"
      ]
     },
     "execution_count": 48,
     "metadata": {},
     "output_type": "execute_result"
    }
   ],
   "source": [
    "stratified_SMOTE.Sex.value_counts(normalize=True)"
   ]
  },
  {
   "cell_type": "code",
   "execution_count": 49,
   "id": "5a23b166-db3e-49ad-bb19-9db59537e9e9",
   "metadata": {},
   "outputs": [
    {
     "data": {
      "text/html": [
       "<div>\n",
       "<style scoped>\n",
       "    .dataframe tbody tr th:only-of-type {\n",
       "        vertical-align: middle;\n",
       "    }\n",
       "\n",
       "    .dataframe tbody tr th {\n",
       "        vertical-align: top;\n",
       "    }\n",
       "\n",
       "    .dataframe thead th {\n",
       "        text-align: right;\n",
       "    }\n",
       "</style>\n",
       "<table border=\"1\" class=\"dataframe\">\n",
       "  <thead>\n",
       "    <tr style=\"text-align: right;\">\n",
       "      <th></th>\n",
       "      <th>Age</th>\n",
       "      <th>BMI</th>\n",
       "      <th>Sex</th>\n",
       "    </tr>\n",
       "  </thead>\n",
       "  <tbody>\n",
       "    <tr>\n",
       "      <th>5117</th>\n",
       "      <td>19.0</td>\n",
       "      <td>20.077748</td>\n",
       "      <td>F</td>\n",
       "    </tr>\n",
       "    <tr>\n",
       "      <th>4010</th>\n",
       "      <td>25.0</td>\n",
       "      <td>19.227688</td>\n",
       "      <td>F</td>\n",
       "    </tr>\n",
       "    <tr>\n",
       "      <th>3748</th>\n",
       "      <td>26.0</td>\n",
       "      <td>20.446742</td>\n",
       "      <td>F</td>\n",
       "    </tr>\n",
       "    <tr>\n",
       "      <th>4936</th>\n",
       "      <td>19.0</td>\n",
       "      <td>19.918367</td>\n",
       "      <td>F</td>\n",
       "    </tr>\n",
       "    <tr>\n",
       "      <th>4984</th>\n",
       "      <td>28.0</td>\n",
       "      <td>18.975448</td>\n",
       "      <td>F</td>\n",
       "    </tr>\n",
       "  </tbody>\n",
       "</table>\n",
       "</div>"
      ],
      "text/plain": [
       "       Age        BMI Sex\n",
       "5117  19.0  20.077748   F\n",
       "4010  25.0  19.227688   F\n",
       "3748  26.0  20.446742   F\n",
       "4936  19.0  19.918367   F\n",
       "4984  28.0  18.975448   F"
      ]
     },
     "execution_count": 49,
     "metadata": {},
     "output_type": "execute_result"
    }
   ],
   "source": [
    "stratified_SMOTE.head()"
   ]
  },
  {
   "cell_type": "markdown",
   "id": "78a766c4-7135-486e-9d81-dff3e3ef8e34",
   "metadata": {},
   "source": [
    "## Nivell 3\n",
    "### Exercici 3\n",
    "#### I) Continua amb el conjunt de dades de tema esportiu i genera una mostra utilitzant el mètode Reservoir sampling."
   ]
  },
  {
   "cell_type": "code",
   "execution_count": 50,
   "id": "28b63eb7-0d2e-404b-b5a6-cd338fc3acf4",
   "metadata": {},
   "outputs": [],
   "source": [
    "def reservoir_sampling(sample, population):\n",
    "    reservoir = []\n",
    "    for i in range(population):\n",
    "        if i < sample:\n",
    "            reservoir.append(i)\n",
    "        else:\n",
    "            j = rd.randint(0, i)\n",
    "            if j < sample:\n",
    "                reservoir[j] = i\n",
    "    return reservoir"
   ]
  },
  {
   "cell_type": "code",
   "execution_count": 51,
   "id": "89c5d814-1931-4dc6-82a9-95ea4d0d7b38",
   "metadata": {},
   "outputs": [],
   "source": [
    "sample = int(len(df_Age_ok)*0.1)+1\n",
    "population = len(df_Age_ok)\n",
    "reservoir_sample_index = reservoir_sampling(sample, population)"
   ]
  },
  {
   "cell_type": "code",
   "execution_count": 52,
   "id": "008e1786-46a2-4b11-9149-243a0d64f3a9",
   "metadata": {},
   "outputs": [
    {
     "data": {
      "text/plain": [
       "261642"
      ]
     },
     "execution_count": 52,
     "metadata": {},
     "output_type": "execute_result"
    }
   ],
   "source": [
    "population"
   ]
  },
  {
   "cell_type": "code",
   "execution_count": 53,
   "id": "0e384b81-1cf8-4566-8872-2400d7bbf078",
   "metadata": {},
   "outputs": [
    {
     "data": {
      "text/plain": [
       "26165"
      ]
     },
     "execution_count": 53,
     "metadata": {},
     "output_type": "execute_result"
    }
   ],
   "source": [
    "sample"
   ]
  },
  {
   "cell_type": "code",
   "execution_count": 54,
   "id": "a6057449-6f9b-49a8-a6e8-5cc414a15728",
   "metadata": {},
   "outputs": [
    {
     "name": "stdout",
     "output_type": "stream",
     "text": [
      "[86482, 2, 159041, 246840, 127105, 250874, 182115, 106176, 75206, 203561, 155815, 251364, 13, 71632, 250277, 144147, 230521, 40619, 19]\n"
     ]
    }
   ],
   "source": [
    "print(reservoir_sample_index[1:20])"
   ]
  },
  {
   "cell_type": "code",
   "execution_count": 55,
   "id": "124e7700-50e3-446b-b52b-4628fe745e3e",
   "metadata": {},
   "outputs": [],
   "source": [
    "reservoir_sample = df_Age_ok.iloc[reservoir_sample_index]"
   ]
  },
  {
   "cell_type": "code",
   "execution_count": 56,
   "id": "6f64b7a5-c6c6-4a29-a1e2-ee1433b3772a",
   "metadata": {},
   "outputs": [
    {
     "name": "stdout",
     "output_type": "stream",
     "text": [
      "Edad Media Reservoir Sample:  25.541\n"
     ]
    }
   ],
   "source": [
    "reservoir_mean = round(reservoir_sample.Age.mean(),3)\n",
    "print(\"Edad Media Reservoir Sample: \", reservoir_mean)"
   ]
  },
  {
   "cell_type": "code",
   "execution_count": 57,
   "id": "ef13c5d6-b2a3-4c40-ae61-9688acc12cc2",
   "metadata": {},
   "outputs": [
    {
     "name": "stdout",
     "output_type": "stream",
     "text": [
      "Edad Media Reservoir Sample by Sex\n",
      "F    23.730\n",
      "M    26.259\n",
      "Name: Age, dtype: float64\n"
     ]
    }
   ],
   "source": [
    "reservoir_bySex_mean= reservoir_sample.groupby(by=\"Sex\").mean(\"Age\")\n",
    "print(\"Edad Media Reservoir Sample by\", round(reservoir_bySex_mean[\"Age\"],3))"
   ]
  },
  {
   "cell_type": "code",
   "execution_count": 58,
   "id": "afdce798-b5f0-4f9c-be4a-bc46d92c2b32",
   "metadata": {},
   "outputs": [
    {
     "data": {
      "text/plain": [
       "(2, 6)"
      ]
     },
     "execution_count": 58,
     "metadata": {},
     "output_type": "execute_result"
    }
   ],
   "source": [
    "reservoir_bySex_mean.shape"
   ]
  },
  {
   "cell_type": "code",
   "execution_count": 59,
   "id": "8479508d-0408-4664-8bc6-cb1394868ed0",
   "metadata": {},
   "outputs": [],
   "source": [
    "reservoir_sample.to_csv('reservoir_sample.csv')"
   ]
  },
  {
   "cell_type": "code",
   "execution_count": 60,
   "id": "239c9429-07d4-40f8-861a-eb78f968dfba",
   "metadata": {},
   "outputs": [
    {
     "name": "stdout",
     "output_type": "stream",
     "text": [
      "               ID        Age      Height     Weight         Year        BMI\n",
      "Sex                                                                        \n",
      "F    71139.181390  23.730407  167.871289  60.252995  1992.819284  21.263684\n",
      "M    67777.637921  26.259085  178.928332  75.662019  1975.279577  23.502014\n"
     ]
    }
   ],
   "source": [
    "print(reservoir_bySex_mean)"
   ]
  },
  {
   "cell_type": "markdown",
   "id": "3176ca19-de32-4221-9e96-553308e8aaf4",
   "metadata": {},
   "source": [
    "## Sampling Summary: Nivels I,II i III"
   ]
  },
  {
   "cell_type": "markdown",
   "id": "1c102464-b3b5-46eb-bf25-bd2cca162b4f",
   "metadata": {},
   "source": [
    "### 1. Comparación Age mean:"
   ]
  },
  {
   "cell_type": "code",
   "execution_count": 61,
   "id": "0bacc5b7-5313-46a6-83a3-13e60ecf6556",
   "metadata": {},
   "outputs": [
    {
     "data": {
      "text/html": [
       "<div>\n",
       "<style scoped>\n",
       "    .dataframe tbody tr th:only-of-type {\n",
       "        vertical-align: middle;\n",
       "    }\n",
       "\n",
       "    .dataframe tbody tr th {\n",
       "        vertical-align: top;\n",
       "    }\n",
       "\n",
       "    .dataframe thead th {\n",
       "        text-align: right;\n",
       "    }\n",
       "</style>\n",
       "<table border=\"1\" class=\"dataframe\">\n",
       "  <thead>\n",
       "    <tr style=\"text-align: right;\">\n",
       "      <th></th>\n",
       "      <th>sample_mean</th>\n",
       "      <th>real_mean</th>\n",
       "      <th>%_error</th>\n",
       "    </tr>\n",
       "  </thead>\n",
       "  <tbody>\n",
       "    <tr>\n",
       "      <th>Simple Random Sampling</th>\n",
       "      <td>25.581371</td>\n",
       "      <td>25.557</td>\n",
       "      <td>0.095361</td>\n",
       "    </tr>\n",
       "    <tr>\n",
       "      <th>Systematic Sampling</th>\n",
       "      <td>25.550000</td>\n",
       "      <td>25.557</td>\n",
       "      <td>0.027390</td>\n",
       "    </tr>\n",
       "    <tr>\n",
       "      <th>Stratified Sampling</th>\n",
       "      <td>25.597000</td>\n",
       "      <td>25.557</td>\n",
       "      <td>0.156513</td>\n",
       "    </tr>\n",
       "    <tr>\n",
       "      <th>(*)Stratified SMOTE Sampling</th>\n",
       "      <td>24.370181</td>\n",
       "      <td>25.557</td>\n",
       "      <td>4.643811</td>\n",
       "    </tr>\n",
       "    <tr>\n",
       "      <th>Reservoir Sampling</th>\n",
       "      <td>25.541000</td>\n",
       "      <td>25.557</td>\n",
       "      <td>0.062605</td>\n",
       "    </tr>\n",
       "  </tbody>\n",
       "</table>\n",
       "</div>"
      ],
      "text/plain": [
       "                              sample_mean  real_mean   %_error\n",
       "Simple Random Sampling          25.581371     25.557  0.095361\n",
       "Systematic Sampling             25.550000     25.557  0.027390\n",
       "Stratified Sampling             25.597000     25.557  0.156513\n",
       "(*)Stratified SMOTE Sampling    24.370181     25.557  4.643811\n",
       "Reservoir Sampling              25.541000     25.557  0.062605"
      ]
     },
     "execution_count": 61,
     "metadata": {},
     "output_type": "execute_result"
    }
   ],
   "source": [
    "# Data Summary\n",
    "# Create a dictionary with the mean outcomes\n",
    "outcomes = {'sample_mean':[simple_rand_mean, systematic_mean,stratified_mean ,stratified_SMOTE_mean, reservoir_mean ],'real_mean':real_mean}\n",
    "\n",
    "# Transform dictionary into a data frame\n",
    "outcomes = pd.DataFrame(outcomes, index=['Simple Random Sampling','Systematic Sampling', 'Stratified Sampling','(*)Stratified SMOTE Sampling','Reservoir Sampling'])\n",
    "\n",
    "# Add a value corresponding to the absolute error\n",
    "outcomes['%_error'] = (abs(outcomes['real_mean'] - outcomes['sample_mean']))/outcomes['real_mean'] *100\n",
    "\n",
    "# Sort data frame by absolute error\n",
    "outcomes.sort_values(by='real_mean')"
   ]
  },
  {
   "cell_type": "markdown",
   "id": "095da38e-8e90-49ae-add6-bd795eab1d53",
   "metadata": {},
   "source": [
    "##### La muestra que más se ajunta a la media de edad de la Población es la obtenida con Systematic Samplig.\n",
    "##### (*) Los resultados obtenidos con el método Stratified SMOTE Sampling no son comparables con el resto de muestras, al haber tenido que reducir los registros que contenian valores \"NaN\"."
   ]
  },
  {
   "cell_type": "markdown",
   "id": "9f06b0c8-f9c4-4024-bf5f-ed659ed35019",
   "metadata": {},
   "source": [
    "### 2. Comparación Age bySex mean - Female:"
   ]
  },
  {
   "cell_type": "code",
   "execution_count": 62,
   "id": "1eddb80b-5bd2-4113-bffa-ec15ca0cc2b1",
   "metadata": {},
   "outputs": [
    {
     "data": {
      "text/html": [
       "<div>\n",
       "<style scoped>\n",
       "    .dataframe tbody tr th:only-of-type {\n",
       "        vertical-align: middle;\n",
       "    }\n",
       "\n",
       "    .dataframe tbody tr th {\n",
       "        vertical-align: top;\n",
       "    }\n",
       "\n",
       "    .dataframe thead th {\n",
       "        text-align: right;\n",
       "    }\n",
       "</style>\n",
       "<table border=\"1\" class=\"dataframe\">\n",
       "  <thead>\n",
       "    <tr style=\"text-align: right;\">\n",
       "      <th></th>\n",
       "      <th>Female_sample_mean</th>\n",
       "      <th>Female_real_mean</th>\n",
       "      <th>%_error</th>\n",
       "    </tr>\n",
       "  </thead>\n",
       "  <tbody>\n",
       "    <tr>\n",
       "      <th>Simple Random Sampling</th>\n",
       "      <td>23.852495</td>\n",
       "      <td>23.732881</td>\n",
       "      <td>0.504002</td>\n",
       "    </tr>\n",
       "    <tr>\n",
       "      <th>Systematic Sampling</th>\n",
       "      <td>23.735044</td>\n",
       "      <td>23.732881</td>\n",
       "      <td>0.009114</td>\n",
       "    </tr>\n",
       "    <tr>\n",
       "      <th>Stratified Sampling</th>\n",
       "      <td>23.749157</td>\n",
       "      <td>23.732881</td>\n",
       "      <td>0.068579</td>\n",
       "    </tr>\n",
       "    <tr>\n",
       "      <th>Reservoir Sampling</th>\n",
       "      <td>23.730407</td>\n",
       "      <td>23.732881</td>\n",
       "      <td>0.010425</td>\n",
       "    </tr>\n",
       "  </tbody>\n",
       "</table>\n",
       "</div>"
      ],
      "text/plain": [
       "                        Female_sample_mean  Female_real_mean   %_error\n",
       "Simple Random Sampling           23.852495         23.732881  0.504002\n",
       "Systematic Sampling              23.735044         23.732881  0.009114\n",
       "Stratified Sampling              23.749157         23.732881  0.068579\n",
       "Reservoir Sampling               23.730407         23.732881  0.010425"
      ]
     },
     "execution_count": 62,
     "metadata": {},
     "output_type": "execute_result"
    }
   ],
   "source": [
    "# Data Summary Mujeres\n",
    "# Create a dictionary with the mean outcomes\n",
    "outcomes = {'Female_sample_mean':[simple_rand_bySex_mean[\"Age\"][\"F\"], systematic_bySex_mean[\"Age\"][\"F\"],stratified_bySex_mean[\"Age\"][\"F\"], reservoir_bySex_mean[\"Age\"][\"F\"]],'Female_real_mean':real_bySex_mean[\"Age\"][\"F\"]}\n",
    "\n",
    "# Transform dictionary into a data frame\n",
    "outcomes = pd.DataFrame(outcomes, index=['Simple Random Sampling','Systematic Sampling','Stratified Sampling', 'Reservoir Sampling'])\n",
    "\n",
    "# Add a value corresponding to the absolute error\n",
    "outcomes['%_error'] = (abs(outcomes['Female_real_mean'] - outcomes['Female_sample_mean']))/outcomes['Female_real_mean'] *100\n",
    "\n",
    "# Sort data frame by absolute error\n",
    "outcomes.sort_values(by='Female_real_mean')"
   ]
  },
  {
   "cell_type": "markdown",
   "id": "dab29891-eeea-456d-9a0a-9c9ccaca0356",
   "metadata": {},
   "source": [
    "##### Para el grupo de atletas femeninas el método que mejor ajusta la edad media es el Systematic Sampling y el segundo que mejor es Reservoir Sampling"
   ]
  },
  {
   "cell_type": "markdown",
   "id": "c55eafd3-baa0-4fbf-b664-f94d8b226cdd",
   "metadata": {},
   "source": [
    "### 3. Comparación Age bySex mean - Male:"
   ]
  },
  {
   "cell_type": "code",
   "execution_count": 63,
   "id": "7364a16d-3679-484a-89b7-89335e0be746",
   "metadata": {},
   "outputs": [
    {
     "data": {
      "text/html": [
       "<div>\n",
       "<style scoped>\n",
       "    .dataframe tbody tr th:only-of-type {\n",
       "        vertical-align: middle;\n",
       "    }\n",
       "\n",
       "    .dataframe tbody tr th {\n",
       "        vertical-align: top;\n",
       "    }\n",
       "\n",
       "    .dataframe thead th {\n",
       "        text-align: right;\n",
       "    }\n",
       "</style>\n",
       "<table border=\"1\" class=\"dataframe\">\n",
       "  <thead>\n",
       "    <tr style=\"text-align: right;\">\n",
       "      <th></th>\n",
       "      <th>Male_sample_mean</th>\n",
       "      <th>Male_real_mean</th>\n",
       "      <th>%_error</th>\n",
       "    </tr>\n",
       "  </thead>\n",
       "  <tbody>\n",
       "    <tr>\n",
       "      <th>Simple Random Sampling</th>\n",
       "      <td>26.252321</td>\n",
       "      <td>26.277562</td>\n",
       "      <td>0.096053</td>\n",
       "    </tr>\n",
       "    <tr>\n",
       "      <th>Systematic Sampling</th>\n",
       "      <td>26.267058</td>\n",
       "      <td>26.277562</td>\n",
       "      <td>0.039973</td>\n",
       "    </tr>\n",
       "    <tr>\n",
       "      <th>Stratified Sampling</th>\n",
       "      <td>26.327237</td>\n",
       "      <td>26.277562</td>\n",
       "      <td>0.189041</td>\n",
       "    </tr>\n",
       "    <tr>\n",
       "      <th>Reservoir Sampling</th>\n",
       "      <td>26.259085</td>\n",
       "      <td>26.277562</td>\n",
       "      <td>0.070312</td>\n",
       "    </tr>\n",
       "  </tbody>\n",
       "</table>\n",
       "</div>"
      ],
      "text/plain": [
       "                        Male_sample_mean  Male_real_mean   %_error\n",
       "Simple Random Sampling         26.252321       26.277562  0.096053\n",
       "Systematic Sampling            26.267058       26.277562  0.039973\n",
       "Stratified Sampling            26.327237       26.277562  0.189041\n",
       "Reservoir Sampling             26.259085       26.277562  0.070312"
      ]
     },
     "execution_count": 63,
     "metadata": {},
     "output_type": "execute_result"
    }
   ],
   "source": [
    "# Data Summary Male\n",
    "# Create a dictionary with the mean outcomes\n",
    "outcomes = {'Male_sample_mean':[simple_rand_bySex_mean[\"Age\"][\"M\"], systematic_bySex_mean[\"Age\"][\"M\"], stratified_bySex_mean[\"Age\"][\"M\"] ,reservoir_bySex_mean[\"Age\"][\"M\"]],'Male_real_mean':real_bySex_mean[\"Age\"][\"M\"]}\n",
    "\n",
    "# Transform dictionary into a data frame\n",
    "outcomes = pd.DataFrame(outcomes, index=['Simple Random Sampling','Systematic Sampling','Stratified Sampling' ,'Reservoir Sampling'])\n",
    "\n",
    "# Add a value corresponding to the absolute error\n",
    "outcomes['%_error'] = (abs(outcomes['Male_real_mean'] - outcomes['Male_sample_mean']))/outcomes['Male_real_mean']*100\n",
    "\n",
    "# Sort data frame by absolute error\n",
    "outcomes.sort_values(by='Male_real_mean')"
   ]
  },
  {
   "cell_type": "markdown",
   "id": "0675af22-161a-4ca2-9496-5b9915f9d85b",
   "metadata": {},
   "source": [
    "##### Para el grupo de aletas masculinos, el método que más aproxima la edad media es Stratified Sampling y el segundo mejor es Systematic Sampling"
   ]
  },
  {
   "cell_type": "markdown",
   "id": "813f0425-9e2b-436f-aeb9-46c5e46211cd",
   "metadata": {},
   "source": [
    "### 4. Comparación BMI - Female:"
   ]
  },
  {
   "cell_type": "code",
   "execution_count": 64,
   "id": "e8fae563-8223-4e8b-a2fc-09d7398d53de",
   "metadata": {},
   "outputs": [
    {
     "data": {
      "text/html": [
       "<div>\n",
       "<style scoped>\n",
       "    .dataframe tbody tr th:only-of-type {\n",
       "        vertical-align: middle;\n",
       "    }\n",
       "\n",
       "    .dataframe tbody tr th {\n",
       "        vertical-align: top;\n",
       "    }\n",
       "\n",
       "    .dataframe thead th {\n",
       "        text-align: right;\n",
       "    }\n",
       "</style>\n",
       "<table border=\"1\" class=\"dataframe\">\n",
       "  <thead>\n",
       "    <tr style=\"text-align: right;\">\n",
       "      <th></th>\n",
       "      <th>FemaleBMI_sample_mean</th>\n",
       "      <th>FemaleBMI_real_mean</th>\n",
       "      <th>%_error</th>\n",
       "    </tr>\n",
       "  </thead>\n",
       "  <tbody>\n",
       "    <tr>\n",
       "      <th>Simple Random Sampling</th>\n",
       "      <td>21.183741</td>\n",
       "      <td>21.193276</td>\n",
       "      <td>0.044990</td>\n",
       "    </tr>\n",
       "    <tr>\n",
       "      <th>Systematic Sampling</th>\n",
       "      <td>21.232328</td>\n",
       "      <td>21.193276</td>\n",
       "      <td>0.184265</td>\n",
       "    </tr>\n",
       "    <tr>\n",
       "      <th>Stratified Sampling</th>\n",
       "      <td>21.172402</td>\n",
       "      <td>21.193276</td>\n",
       "      <td>0.098492</td>\n",
       "    </tr>\n",
       "    <tr>\n",
       "      <th>Reservoir Sampling</th>\n",
       "      <td>21.263684</td>\n",
       "      <td>21.193276</td>\n",
       "      <td>0.332217</td>\n",
       "    </tr>\n",
       "  </tbody>\n",
       "</table>\n",
       "</div>"
      ],
      "text/plain": [
       "                        FemaleBMI_sample_mean  FemaleBMI_real_mean   %_error\n",
       "Simple Random Sampling              21.183741            21.193276  0.044990\n",
       "Systematic Sampling                 21.232328            21.193276  0.184265\n",
       "Stratified Sampling                 21.172402            21.193276  0.098492\n",
       "Reservoir Sampling                  21.263684            21.193276  0.332217"
      ]
     },
     "execution_count": 64,
     "metadata": {},
     "output_type": "execute_result"
    }
   ],
   "source": [
    "# Data Summary Female\n",
    "# Create a dictionary with the mean outcomes\n",
    "outcomes = {'FemaleBMI_sample_mean':[simple_rand_bySex_mean[\"BMI\"][\"F\"], systematic_bySex_mean[\"BMI\"][\"F\"],stratified_bySex_mean[\"BMI\"][\"F\"] ,reservoir_bySex_mean[\"BMI\"][\"F\"]],'FemaleBMI_real_mean':real_bySex_mean[\"BMI\"][\"F\"]}\n",
    "\n",
    "# Transform dictionary into a data frame\n",
    "outcomes = pd.DataFrame(outcomes, index=['Simple Random Sampling','Systematic Sampling', 'Stratified Sampling','Reservoir Sampling'])\n",
    "\n",
    "# Add a value corresponding to the absolute error\n",
    "outcomes['%_error'] = (abs(outcomes['FemaleBMI_real_mean'] - outcomes['FemaleBMI_sample_mean']))/outcomes['FemaleBMI_real_mean']*100\n",
    "\n",
    "# Sort data frame by absolute error\n",
    "outcomes.sort_values(by='FemaleBMI_real_mean')"
   ]
  },
  {
   "cell_type": "markdown",
   "id": "230315b2-4436-44c2-8473-340208e6044a",
   "metadata": {},
   "source": [
    "##### En el caso del BMI la muestra que mejor representa la media de dicha variable en relación a la población de atletas femeninas es SImple Random Sampling"
   ]
  },
  {
   "cell_type": "markdown",
   "id": "9b635e9c-bfbe-4338-843e-fca18e4460d3",
   "metadata": {},
   "source": [
    "### 5. Comparación BMI - Male:"
   ]
  },
  {
   "cell_type": "code",
   "execution_count": 65,
   "id": "c4bc5ad6-330a-400c-b992-fad943a8331d",
   "metadata": {},
   "outputs": [
    {
     "data": {
      "text/html": [
       "<div>\n",
       "<style scoped>\n",
       "    .dataframe tbody tr th:only-of-type {\n",
       "        vertical-align: middle;\n",
       "    }\n",
       "\n",
       "    .dataframe tbody tr th {\n",
       "        vertical-align: top;\n",
       "    }\n",
       "\n",
       "    .dataframe thead th {\n",
       "        text-align: right;\n",
       "    }\n",
       "</style>\n",
       "<table border=\"1\" class=\"dataframe\">\n",
       "  <thead>\n",
       "    <tr style=\"text-align: right;\">\n",
       "      <th></th>\n",
       "      <th>MaleBMI_sample_mean</th>\n",
       "      <th>MaleBMI_real_mean</th>\n",
       "      <th>%_error</th>\n",
       "    </tr>\n",
       "  </thead>\n",
       "  <tbody>\n",
       "    <tr>\n",
       "      <th>Simple Random Sampling</th>\n",
       "      <td>23.545404</td>\n",
       "      <td>23.545317</td>\n",
       "      <td>0.000370</td>\n",
       "    </tr>\n",
       "    <tr>\n",
       "      <th>Systematic Sampling</th>\n",
       "      <td>23.582727</td>\n",
       "      <td>23.545317</td>\n",
       "      <td>0.158883</td>\n",
       "    </tr>\n",
       "    <tr>\n",
       "      <th>Stratified Sampling</th>\n",
       "      <td>23.557095</td>\n",
       "      <td>23.545317</td>\n",
       "      <td>0.050021</td>\n",
       "    </tr>\n",
       "    <tr>\n",
       "      <th>Reservoir Sampling</th>\n",
       "      <td>23.502014</td>\n",
       "      <td>23.545317</td>\n",
       "      <td>0.183914</td>\n",
       "    </tr>\n",
       "  </tbody>\n",
       "</table>\n",
       "</div>"
      ],
      "text/plain": [
       "                        MaleBMI_sample_mean  MaleBMI_real_mean   %_error\n",
       "Simple Random Sampling            23.545404          23.545317  0.000370\n",
       "Systematic Sampling               23.582727          23.545317  0.158883\n",
       "Stratified Sampling               23.557095          23.545317  0.050021\n",
       "Reservoir Sampling                23.502014          23.545317  0.183914"
      ]
     },
     "execution_count": 65,
     "metadata": {},
     "output_type": "execute_result"
    }
   ],
   "source": [
    "# Data Summary Male\n",
    "# Create a dictionary with the mean outcomes\n",
    "outcomes = {'MaleBMI_sample_mean':[simple_rand_bySex_mean[\"BMI\"][\"M\"], systematic_bySex_mean[\"BMI\"][\"M\"],stratified_bySex_mean[\"BMI\"][\"M\"] ,reservoir_bySex_mean[\"BMI\"][\"M\"]],'MaleBMI_real_mean':real_bySex_mean[\"BMI\"][\"M\"]}\n",
    "\n",
    "# Transform dictionary into a data frame\n",
    "outcomes = pd.DataFrame(outcomes, index=['Simple Random Sampling','Systematic Sampling','Stratified Sampling','Reservoir Sampling'])\n",
    "\n",
    "# Add a value corresponding to the absolute error\n",
    "outcomes['%_error'] = (abs(outcomes['MaleBMI_real_mean'] - outcomes['MaleBMI_sample_mean']))/outcomes['MaleBMI_real_mean']*100\n",
    "\n",
    "# Sort data frame by absolute error\n",
    "outcomes.sort_values(by='MaleBMI_real_mean')"
   ]
  },
  {
   "cell_type": "markdown",
   "id": "7788b891-07d1-467b-9bf8-30f30ac895e9",
   "metadata": {},
   "source": [
    "##### Se cumple también en el caso del BMI medio de la población de atletas masculinos donde la muestra que mejor se aproxima es SImple Random Sampling"
   ]
  },
  {
   "cell_type": "markdown",
   "id": "d273065f-bd91-4880-8d76-b70e537c1df2",
   "metadata": {},
   "source": [
    "### 6. Resumén gráfico de Boxplot de las diferentes muestras y categorías de datos"
   ]
  },
  {
   "cell_type": "markdown",
   "id": "19789336-75d4-429b-93e5-888a70631c82",
   "metadata": {},
   "source": [
    "#### 6.1 Population Boxplot"
   ]
  },
  {
   "cell_type": "code",
   "execution_count": 66,
   "id": "fe3f9d72-01b1-4ee9-9a60-6b5e95878031",
   "metadata": {},
   "outputs": [
    {
     "data": {
      "image/png": "[encoded data removed]",
      "text/plain": [
       "<Figure size 1440x360 with 6 Axes>"
      ]
     },
     "metadata": {},
     "output_type": "display_data"
    }
   ],
   "source": [
    "fig, axes = plt.subplots(1, 3, figsize=(20, 5), sharey=True)\n",
    "\n",
    "ax1 = fig.add_subplot(1, 3, 1)\n",
    "sns.set(style=\"whitegrid\")\n",
    "plt.title('POPULATION Age & bySex')\n",
    "ax1= sns.boxplot(data=df_Age_ok.sort_values(by=\"Age\"), x=\"Age\", y=\"Sex\", orient=\"h\", showmeans=True, palette=\"coolwarm\")\n",
    "\n",
    "ax2 = fig.add_subplot(1, 3, 2)\n",
    "sns.set(style=\"whitegrid\")\n",
    "plt.title('POPULATION Medal / Age & bySex')\n",
    "ax2= sns.boxplot(data=df_Age_ok.sort_values(by=\"Age\"), x=\"Age\", y=\"Medal\", hue=\"Sex\",orient=\"h\", showmeans=True, palette=\"coolwarm\")\n",
    "\n",
    "ax3 = fig.add_subplot(1, 3, 3)\n",
    "sns.set(style=\"whitegrid\")\n",
    "plt.title('POPULATION Medal/ BMI & bySex ')\n",
    "ax3= sns.boxplot(data=df_Age_ok.sort_values(by=\"BMI\"), x=\"BMI\", y=\"Medal\",hue=\"Sex\",orient=\"h\", showmeans=True, palette=\"Spectral\")\n"
   ]
  },
  {
   "cell_type": "markdown",
   "id": "46000485-04b6-49e7-bfa4-9f574f59e1b1",
   "metadata": {},
   "source": [
    "##### En relación a los datos de la Población, la edad media de las mujeres atletas es inferior a la de los hombres en todas las categorias: Age bySEx y Medal/Age bySex \n",
    "##### En relación a Índice de masa corporal y tipos de medallas, las mujeres tienen una media de BMI inferior al de los hombres en todos los apartados"
   ]
  },
  {
   "cell_type": "markdown",
   "id": "5fbb7878-54d4-45f0-8604-e4c669996576",
   "metadata": {},
   "source": [
    "#### 6.2 Simple Random Sample Boxplot"
   ]
  },
  {
   "cell_type": "code",
   "execution_count": 67,
   "id": "589c296b-3c44-47ee-9406-604ffaa33751",
   "metadata": {},
   "outputs": [
    {
     "data": {
      "image/png": "[encoded data removed]",
      "text/plain": [
       "<Figure size 1440x360 with 6 Axes>"
      ]
     },
     "metadata": {},
     "output_type": "display_data"
    }
   ],
   "source": [
    "fig, axes = plt.subplots(1, 3, figsize=(20, 5), sharey=True)\n",
    "\n",
    "ax1 = fig.add_subplot(1, 3, 1)\n",
    "sns.set(style=\"whitegrid\")\n",
    "plt.title(f'SIMPLE RANDOM SAMPLE Age & BySex')\n",
    "ax4= sns.boxplot(data=simple_rand.sort_values(by=\"Age\"), x=\"Age\", y=\"Sex\",orient=\"h\", showmeans=True,palette=\"Pastel1\")\n",
    "\n",
    "ax2 = fig.add_subplot(1, 3, 2)\n",
    "sns.set(style=\"whitegrid\")\n",
    "plt.title(f'SIMPLE RANDOM SAMPLE Medal/ Age & bySex')\n",
    "ax5= sns.boxplot(data=simple_rand.sort_values(by=\"Age\"), x=\"Age\", y=\"Medal\", hue=\"Sex\",orient=\"h\", showmeans=True, palette=\"Pastel1\")\n",
    "\n",
    "ax3 = fig.add_subplot(1, 3, 3)\n",
    "sns.set(style=\"whitegrid\")\n",
    "plt.title(f'SIMPLE RANDOM SAMPLE Medal / BMI & bySex ')\n",
    "ax6= sns.boxplot(data=simple_rand.sort_values(by=\"BMI\"), x=\"BMI\", y=\"Medal\",orient=\"h\", hue=\"Sex\",showmeans=True, palette=\"Spectral\")"
   ]
  },
  {
   "cell_type": "markdown",
   "id": "a9e1d998-d912-4a11-9b1f-539f09324f12",
   "metadata": {},
   "source": [
    "##### Esta muestra es la que mejor se ajusta a la media del BMI tanto en el colectivo de atletas femeninas como masculinos "
   ]
  },
  {
   "cell_type": "markdown",
   "id": "72d2dffc-5070-4398-9921-772b1b2c0d95",
   "metadata": {},
   "source": [
    "#### 6.3 Systematic Sample Boxplot"
   ]
  },
  {
   "cell_type": "code",
   "execution_count": 68,
   "id": "bee4c522-8734-4781-bab9-f848788a5bfc",
   "metadata": {},
   "outputs": [
    {
     "data": {
      "image/png": "[encoded data removed]",
      "text/plain": [
       "<Figure size 1440x360 with 6 Axes>"
      ]
     },
     "metadata": {},
     "output_type": "display_data"
    }
   ],
   "source": [
    "fig, axes = plt.subplots(1, 3, figsize=(20, 5), sharey=True)\n",
    "\n",
    "ax1 = fig.add_subplot(1, 3, 1)\n",
    "sns.set(style=\"whitegrid\")\n",
    "plt.title(f'SYSTEMATIC SAMPLE Age & BySex')\n",
    "ax4= sns.boxplot(data=systematic_sample.sort_values(by=\"Age\"), x=\"Age\", y=\"Sex\",orient=\"h\", showmeans=True,palette=\"Pastel1\")\n",
    "\n",
    "ax2 = fig.add_subplot(1, 3, 2)\n",
    "sns.set(style=\"whitegrid\")\n",
    "plt.title(f'SYSTEMATIC SAMPLE Medal / Age & bySex')\n",
    "ax5= sns.boxplot(data=systematic_sample.sort_values(by=\"Age\"), x=\"Age\", y=\"Medal\", hue=\"Sex\",orient=\"h\", showmeans=True, palette=\"Pastel1\")\n",
    "plt.title(f'SYSTEMATIC SAMPLE by Medal & Age- - Random Sample')\n",
    "\n",
    "ax3 = fig.add_subplot(1, 3, 3)\n",
    "sns.set(style=\"whitegrid\")\n",
    "plt.title(f'SYSTEMATIC SAMPLE Medal / BMI / Age & bySex -')\n",
    "ax6= sns.boxplot(data=systematic_sample.sort_values(by=\"BMI\"), x=\"BMI\", y=\"Medal\",orient=\"h\", hue=\"Sex\",showmeans=True, palette=\"Spectral\")"
   ]
  },
  {
   "cell_type": "markdown",
   "id": "368bf8da-3555-4c98-8aad-4fa584d311c1",
   "metadata": {},
   "source": [
    "##### La muestra obtenida con el método Systematic Sampling es la que mejor se ajusta a la edad media en las clasificaciones por Age bySex y Medal/Age bySex"
   ]
  },
  {
   "cell_type": "markdown",
   "id": "3e5ede64-da52-47d9-824a-52146660746b",
   "metadata": {},
   "source": [
    "#### 6.4 Stratified Sample Boxplot"
   ]
  },
  {
   "cell_type": "code",
   "execution_count": 69,
   "id": "ab0f9b5a-7559-4f88-a678-e1b2175b6aa8",
   "metadata": {},
   "outputs": [
    {
     "data": {
      "image/png": "[encoded data removed]",
      "text/plain": [
       "<Figure size 1440x360 with 6 Axes>"
      ]
     },
     "metadata": {},
     "output_type": "display_data"
    }
   ],
   "source": [
    "fig, axes = plt.subplots(1, 3, figsize=(20, 5), sharey=True)\n",
    "\n",
    "ax1 = fig.add_subplot(1, 3, 1)\n",
    "sns.set(style=\"whitegrid\")\n",
    "plt.title(f'STRATIFIED SAMPLE Age & BySex')\n",
    "ax4= sns.boxplot(data=stratified_sample.sort_values(by=\"Age\"), x=\"Age\", y=\"Sex\",orient=\"h\", showmeans=True,palette=\"Pastel1\")\n",
    "\n",
    "ax2 = fig.add_subplot(1, 3, 2)\n",
    "sns.set(style=\"whitegrid\")\n",
    "plt.title(f'STRATIFIED SAMPLE Medal / Age & bySex')\n",
    "ax5= sns.boxplot(data=stratified_sample.sort_values(by=\"Age\"), x=\"Age\", y=\"Medal\", hue=\"Sex\",orient=\"h\", showmeans=True, palette=\"Pastel1\")\n",
    "plt.title(f'SYSTEMATIC SAMPLE Medal / Age & bySex')\n",
    "\n",
    "ax3 = fig.add_subplot(1, 3, 3)\n",
    "sns.set(style=\"whitegrid\")\n",
    "plt.title(f'STRATIFIED SAMPLE Medal / BMI & bySex ')\n",
    "ax6= sns.boxplot(data=stratified_sample.sort_values(by=\"BMI\"), x=\"BMI\", y=\"Medal\", hue=\"Sex\",orient=\"h\",showmeans=True, palette=\"Spectral\")"
   ]
  },
  {
   "cell_type": "markdown",
   "id": "8ab1f86a-6566-4fc1-8488-9bda7e555591",
   "metadata": {},
   "source": [
    "##### Las atletas con medalla , se corresponde con el colectivo minoritario y queda infrarepresentado en los métodos de muestreo generales.\n",
    "##### Este método, por tanto, mejora las edades medias del colectivo de atletas femeninas clasificadas por tipos de medalla en relación a la edad media de la Población de Sex= femenino"
   ]
  },
  {
   "cell_type": "markdown",
   "id": "04d88738-7f16-4d89-8c81-34ac951df201",
   "metadata": {},
   "source": [
    "#### 6.5 Stratified SMOTE Boxplot"
   ]
  },
  {
   "cell_type": "code",
   "execution_count": 70,
   "id": "33caddb4-a20a-4b8e-8e12-4af426615e14",
   "metadata": {},
   "outputs": [
    {
     "data": {
      "image/png": "[encoded data removed]",
      "text/plain": [
       "<Figure size 360x360 with 1 Axes>"
      ]
     },
     "metadata": {},
     "output_type": "display_data"
    }
   ],
   "source": [
    "plt.figure(figsize=(5,5))\n",
    "plt.title('STRATIFIED SMOTE Age & bySex')\n",
    "plot1= sns.boxplot(data=stratified_SMOTE.sort_values(by=\"Age\",ascending=True), x=\"Age\", y=\"Sex\", orient=\"h\", showmeans=True, palette=\"coolwarm\")\n",
    "plot1.figure.savefig(\"Grafico1_age_sex_plot.png\")"
   ]
  },
  {
   "cell_type": "markdown",
   "id": "124e7915-112a-4cc9-9880-1c63092337cc",
   "metadata": {},
   "source": [
    "##### (*) Los resultados obtenidos con el método Stratified SMOTE Sampling no son comparables con el resto de muestras, al haber tenido que reducir los registros que contenian valores \"NaN\""
   ]
  },
  {
   "cell_type": "markdown",
   "id": "084fab63-8609-473b-b3b3-04be705fdcd0",
   "metadata": {},
   "source": [
    "#### 6.6 Reservoir Sample Boxplot"
   ]
  },
  {
   "cell_type": "code",
   "execution_count": 71,
   "id": "f3eb2d5d-adc6-423d-aed3-2fe1fb6f8b98",
   "metadata": {},
   "outputs": [
    {
     "data": {
      "image/png": "[encoded data removed]",
      "text/plain": [
       "<Figure size 1440x360 with 6 Axes>"
      ]
     },
     "metadata": {},
     "output_type": "display_data"
    }
   ],
   "source": [
    "fig, axes = plt.subplots(1, 3, figsize=(20, 5), sharey=True)\n",
    "\n",
    "ax4 = fig.add_subplot(1, 3, 1)\n",
    "sns.set(style=\"whitegrid\")\n",
    "plt.title(f'RESERVOIR SAMPLE ')\n",
    "ax4= sns.boxplot(data= reservoir_sample.sort_values(by=\"Age\"), x=\"Age\", y=\"Sex\",orient=\"h\", showmeans=True,palette=\"Pastel1\")\n",
    "\n",
    "ax5 = fig.add_subplot(1, 3, 2)\n",
    "sns.set(style=\"whitegrid\")\n",
    "plt.title(f'RESERVOIR SAMPLE Medal / Age & BySex')\n",
    "ax5= sns.boxplot(data= reservoir_sample.sort_values(by=\"Age\"), x=\"Age\", y=\"Medal\",orient=\"h\", hue=\"Sex\",showmeans=True, palette=\"Pastel1\")\n",
    "\n",
    "ax6 = fig.add_subplot(1, 3, 3)\n",
    "sns.set(style=\"whitegrid\")\n",
    "plt.title(f'RESERVOIR SAMPLE Medal / BMI & bySex')\n",
    "ax6= sns.boxplot(data= reservoir_sample.sort_values(by=\"BMI\"), x=\"BMI\", y=\"Medal\",orient=\"h\", hue=\"Sex\",showmeans=True, palette=\"Spectral\")"
   ]
  },
  {
   "cell_type": "markdown",
   "id": "c344ca8a-8bc7-4f30-bbb3-d29df79ea4ce",
   "metadata": {},
   "source": [
    "##### Este método de muestreo es uno de los que mejor ajusta la edad média del colectivo de atletas femeninas clasificadas por tipos de medallas"
   ]
  }
 ],
 "metadata": {
  "kernelspec": {
   "display_name": "Python 3 (ipykernel)",
   "language": "python",
   "name": "python3"
  },
  "language_info": {
   "codemirror_mode": {
    "name": "ipython",
    "version": 3
   },
   "file_extension": ".py",
   "mimetype": "text/x-python",
   "name": "python",
   "nbconvert_exporter": "python",
   "pygments_lexer": "ipython3",
   "version": "3.9.7"
  }
 },
 "nbformat": 4,
 "nbformat_minor": 5
}
